{
 "cells": [
  {
   "cell_type": "markdown",
   "id": "a0364f81-71c4-4f00-8ee6-8a142106d7f3",
   "metadata": {},
   "source": [
    "# Data Mining - Final Project - Team Supreme"
   ]
  },
  {
   "cell_type": "markdown",
   "id": "760ab502-3ce2-419f-8485-501c4db5aa3e",
   "metadata": {},
   "source": [
    "## Predicting Customer churn for a Telecommunication Company"
   ]
  },
  {
   "cell_type": "markdown",
   "id": "496ffd5a-1d70-46c1-89e0-a485301166d5",
   "metadata": {},
   "source": [
    "### Authored by:\n",
    "Team Name: Team Supreme\n",
    "\n",
    "Team Members: Arivarasan Ramasamy, Ganti Uday, Pushvanth Teja Malisetty, Nikhil Namani, Suraj Varma Dantuluri, Madhumitha Jeripothula "
   ]
  },
  {
   "cell_type": "markdown",
   "id": "3649b884-ea26-492c-8b71-4640db5643c9",
   "metadata": {},
   "source": [
    "### Introduction and Overview "
   ]
  },
  {
   "cell_type": "markdown",
   "id": "30530271-6fd4-40c7-8809-c4729186e985",
   "metadata": {},
   "source": [
    "Customers churn is an everyday thing with telecom companies, although the percentage rate increased slightly following the pandemic. Our objective is in this project is to create a Machine Learning model that can predict weather a customer is likely to leave the telecom service or not’.\n",
    "\n",
    "In this notebook we are training multiple ML models with customer data from IBM Business Analytics Community. These data sets have all been tested with IBM Cognos Analytics. \n"
   ]
  },
  {
   "cell_type": "markdown",
   "id": "0e5cebca-193f-40e8-b03c-a7bb64cde754",
   "metadata": {},
   "source": [
    "### Business objective:"
   ]
  },
  {
   "cell_type": "markdown",
   "id": "ec3175f1-7372-40bb-878e-631720c40e0f",
   "metadata": {},
   "source": [
    "Our target is to predict whether a customer is likely to leave the telecom network or not. \n",
    "\n",
    "By comparing the best metrics from the diffrent ML models and coming up with recommendations for the Telecom companies to handle customer chrun issue.\n",
    "\n",
    "In this context,\n",
    "\n",
    "True Positives – Number of customers that the model correctly predicted will churn. *** \n",
    "\n",
    "False Positives - Number of customers the model predicted will churn but they didn’t. *\n",
    "\n",
    "True Negatives - Number of customers whom the model correctly predicted will not churn* \n",
    "\n",
    "False Negatives - Number of customers that the model predicted will not churn but they did. ***\n",
    "\n",
    "\n",
    "Our main focus will be TP and FN. Because, misscalculation in these metrics will result in a loss of a customer.(Which is the highest priority). Whereas, FP and TN, have not much impact on our business cost, Eventough, we take steps to make to retain the customer in FP and TN, it will be like a insentive to the existing customer. So  FP and TN will not have mmuch impact on our business model.\n",
    "Our focus will be on model with best Recall score with accuracy as a next important metric to be considered.\n",
    "\n",
    "Here, F-beta = 2 will be a important metric for this business case. "
   ]
  },
  {
   "cell_type": "markdown",
   "id": "25fe5f47-1fdb-4d40-b053-22ac2f82d82b",
   "metadata": {},
   "source": [
    "### Install and import necessary packages"
   ]
  },
  {
   "cell_type": "code",
   "execution_count": 1,
   "id": "46210e8c-3418-47e3-a965-de897e3a167e",
   "metadata": {},
   "outputs": [
    {
     "name": "stderr",
     "output_type": "stream",
     "text": [
      "C:\\Users\\Uday Ganti\\anaconda3\\lib\\site-packages\\xgboost\\compat.py:36: FutureWarning: pandas.Int64Index is deprecated and will be removed from pandas in a future version. Use pandas.Index with the appropriate dtype instead.\n",
      "  from pandas import MultiIndex, Int64Index\n"
     ]
    }
   ],
   "source": [
    "import pandas as pd\n",
    "import numpy as np\n",
    "\n",
    "#import dateutil.parser\n",
    "#from datetime import date\n",
    "import matplotlib.pyplot as plt\n",
    "\n",
    "from sklearn.model_selection import train_test_split,cross_val_score, GridSearchCV\n",
    "from sklearn import preprocessing \n",
    "from sklearn.neighbors import KNeighborsClassifier\n",
    "from sklearn.tree import DecisionTreeClassifier\n",
    "from sklearn.ensemble import RandomForestClassifier, GradientBoostingClassifier, AdaBoostClassifier\n",
    "from xgboost import XGBClassifier\n",
    "from sklearn.linear_model import LogisticRegression\n",
    "from sklearn.metrics import confusion_matrix, classification_report, accuracy_score, precision_score, recall_score, f1_score, plot_roc_curve, roc_auc_score, roc_curve, auc, RocCurveDisplay, PrecisionRecallDisplay, precision_recall_curve,fbeta_score,make_scorer\n",
    "\n",
    "from sklearn.metrics import roc_curve\n",
    "\n",
    "from sklearn.preprocessing import OrdinalEncoder\n",
    "from sklearn.preprocessing import LabelEncoder\n",
    "from sklearn.neural_network import MLPClassifier\n",
    "\n",
    "import seaborn as sns\n",
    "\n",
    "random_seed = 1\n",
    "np.random.seed(random_seed)"
   ]
  },
  {
   "cell_type": "markdown",
   "id": "72061345-3fb8-445d-9010-7cd938f51896",
   "metadata": {},
   "source": [
    "### Load and Explore data"
   ]
  },
  {
   "cell_type": "code",
   "execution_count": 2,
   "id": "72612c73-e7df-4e51-98c4-19306d3cf4c4",
   "metadata": {},
   "outputs": [
    {
     "data": {
      "text/html": [
       "<div>\n",
       "<style scoped>\n",
       "    .dataframe tbody tr th:only-of-type {\n",
       "        vertical-align: middle;\n",
       "    }\n",
       "\n",
       "    .dataframe tbody tr th {\n",
       "        vertical-align: top;\n",
       "    }\n",
       "\n",
       "    .dataframe thead th {\n",
       "        text-align: right;\n",
       "    }\n",
       "</style>\n",
       "<table border=\"1\" class=\"dataframe\">\n",
       "  <thead>\n",
       "    <tr style=\"text-align: right;\">\n",
       "      <th></th>\n",
       "      <th>customerID</th>\n",
       "      <th>gender</th>\n",
       "      <th>SeniorCitizen</th>\n",
       "      <th>Partner</th>\n",
       "      <th>Dependents</th>\n",
       "      <th>tenure</th>\n",
       "      <th>PhoneService</th>\n",
       "      <th>MultipleLines</th>\n",
       "      <th>InternetService</th>\n",
       "      <th>OnlineSecurity</th>\n",
       "      <th>...</th>\n",
       "      <th>DeviceProtection</th>\n",
       "      <th>TechSupport</th>\n",
       "      <th>StreamingTV</th>\n",
       "      <th>StreamingMovies</th>\n",
       "      <th>Contract</th>\n",
       "      <th>PaperlessBilling</th>\n",
       "      <th>PaymentMethod</th>\n",
       "      <th>MonthlyCharges</th>\n",
       "      <th>TotalCharges</th>\n",
       "      <th>Churn</th>\n",
       "    </tr>\n",
       "  </thead>\n",
       "  <tbody>\n",
       "    <tr>\n",
       "      <th>0</th>\n",
       "      <td>7590-VHVEG</td>\n",
       "      <td>Female</td>\n",
       "      <td>0</td>\n",
       "      <td>Yes</td>\n",
       "      <td>No</td>\n",
       "      <td>1</td>\n",
       "      <td>No</td>\n",
       "      <td>No phone service</td>\n",
       "      <td>DSL</td>\n",
       "      <td>No</td>\n",
       "      <td>...</td>\n",
       "      <td>No</td>\n",
       "      <td>No</td>\n",
       "      <td>No</td>\n",
       "      <td>No</td>\n",
       "      <td>Month-to-month</td>\n",
       "      <td>Yes</td>\n",
       "      <td>Electronic check</td>\n",
       "      <td>29.85</td>\n",
       "      <td>29.85</td>\n",
       "      <td>No</td>\n",
       "    </tr>\n",
       "    <tr>\n",
       "      <th>1</th>\n",
       "      <td>5575-GNVDE</td>\n",
       "      <td>Male</td>\n",
       "      <td>0</td>\n",
       "      <td>No</td>\n",
       "      <td>No</td>\n",
       "      <td>34</td>\n",
       "      <td>Yes</td>\n",
       "      <td>No</td>\n",
       "      <td>DSL</td>\n",
       "      <td>Yes</td>\n",
       "      <td>...</td>\n",
       "      <td>Yes</td>\n",
       "      <td>No</td>\n",
       "      <td>No</td>\n",
       "      <td>No</td>\n",
       "      <td>One year</td>\n",
       "      <td>No</td>\n",
       "      <td>Mailed check</td>\n",
       "      <td>56.95</td>\n",
       "      <td>1889.5</td>\n",
       "      <td>No</td>\n",
       "    </tr>\n",
       "    <tr>\n",
       "      <th>2</th>\n",
       "      <td>3668-QPYBK</td>\n",
       "      <td>Male</td>\n",
       "      <td>0</td>\n",
       "      <td>No</td>\n",
       "      <td>No</td>\n",
       "      <td>2</td>\n",
       "      <td>Yes</td>\n",
       "      <td>No</td>\n",
       "      <td>DSL</td>\n",
       "      <td>Yes</td>\n",
       "      <td>...</td>\n",
       "      <td>No</td>\n",
       "      <td>No</td>\n",
       "      <td>No</td>\n",
       "      <td>No</td>\n",
       "      <td>Month-to-month</td>\n",
       "      <td>Yes</td>\n",
       "      <td>Mailed check</td>\n",
       "      <td>53.85</td>\n",
       "      <td>108.15</td>\n",
       "      <td>Yes</td>\n",
       "    </tr>\n",
       "    <tr>\n",
       "      <th>3</th>\n",
       "      <td>7795-CFOCW</td>\n",
       "      <td>Male</td>\n",
       "      <td>0</td>\n",
       "      <td>No</td>\n",
       "      <td>No</td>\n",
       "      <td>45</td>\n",
       "      <td>No</td>\n",
       "      <td>No phone service</td>\n",
       "      <td>DSL</td>\n",
       "      <td>Yes</td>\n",
       "      <td>...</td>\n",
       "      <td>Yes</td>\n",
       "      <td>Yes</td>\n",
       "      <td>No</td>\n",
       "      <td>No</td>\n",
       "      <td>One year</td>\n",
       "      <td>No</td>\n",
       "      <td>Bank transfer (automatic)</td>\n",
       "      <td>42.30</td>\n",
       "      <td>1840.75</td>\n",
       "      <td>No</td>\n",
       "    </tr>\n",
       "    <tr>\n",
       "      <th>4</th>\n",
       "      <td>9237-HQITU</td>\n",
       "      <td>Female</td>\n",
       "      <td>0</td>\n",
       "      <td>No</td>\n",
       "      <td>No</td>\n",
       "      <td>2</td>\n",
       "      <td>Yes</td>\n",
       "      <td>No</td>\n",
       "      <td>Fiber optic</td>\n",
       "      <td>No</td>\n",
       "      <td>...</td>\n",
       "      <td>No</td>\n",
       "      <td>No</td>\n",
       "      <td>No</td>\n",
       "      <td>No</td>\n",
       "      <td>Month-to-month</td>\n",
       "      <td>Yes</td>\n",
       "      <td>Electronic check</td>\n",
       "      <td>70.70</td>\n",
       "      <td>151.65</td>\n",
       "      <td>Yes</td>\n",
       "    </tr>\n",
       "  </tbody>\n",
       "</table>\n",
       "<p>5 rows × 21 columns</p>\n",
       "</div>"
      ],
      "text/plain": [
       "   customerID  gender  SeniorCitizen Partner Dependents  tenure PhoneService  \\\n",
       "0  7590-VHVEG  Female              0     Yes         No       1           No   \n",
       "1  5575-GNVDE    Male              0      No         No      34          Yes   \n",
       "2  3668-QPYBK    Male              0      No         No       2          Yes   \n",
       "3  7795-CFOCW    Male              0      No         No      45           No   \n",
       "4  9237-HQITU  Female              0      No         No       2          Yes   \n",
       "\n",
       "      MultipleLines InternetService OnlineSecurity  ... DeviceProtection  \\\n",
       "0  No phone service             DSL             No  ...               No   \n",
       "1                No             DSL            Yes  ...              Yes   \n",
       "2                No             DSL            Yes  ...               No   \n",
       "3  No phone service             DSL            Yes  ...              Yes   \n",
       "4                No     Fiber optic             No  ...               No   \n",
       "\n",
       "  TechSupport StreamingTV StreamingMovies        Contract PaperlessBilling  \\\n",
       "0          No          No              No  Month-to-month              Yes   \n",
       "1          No          No              No        One year               No   \n",
       "2          No          No              No  Month-to-month              Yes   \n",
       "3         Yes          No              No        One year               No   \n",
       "4          No          No              No  Month-to-month              Yes   \n",
       "\n",
       "               PaymentMethod MonthlyCharges  TotalCharges Churn  \n",
       "0           Electronic check          29.85         29.85    No  \n",
       "1               Mailed check          56.95        1889.5    No  \n",
       "2               Mailed check          53.85        108.15   Yes  \n",
       "3  Bank transfer (automatic)          42.30       1840.75    No  \n",
       "4           Electronic check          70.70        151.65   Yes  \n",
       "\n",
       "[5 rows x 21 columns]"
      ]
     },
     "execution_count": 2,
     "metadata": {},
     "output_type": "execute_result"
    }
   ],
   "source": [
    "customer_df = pd.read_csv(\"Churn.csv\")\n",
    "customer_df.head()"
   ]
  },
  {
   "cell_type": "code",
   "execution_count": 3,
   "id": "4899982d-fee0-461e-84b9-4ab4fa1dada0",
   "metadata": {},
   "outputs": [
    {
     "data": {
      "text/plain": [
       "(7043, 21)"
      ]
     },
     "execution_count": 3,
     "metadata": {},
     "output_type": "execute_result"
    }
   ],
   "source": [
    "customer_df.shape"
   ]
  },
  {
   "cell_type": "markdown",
   "id": "3ecf64fe-8e5a-45b3-b0e3-de976396cbe1",
   "metadata": {},
   "source": [
    "The data file has 21 variables and 7043 observations."
   ]
  },
  {
   "cell_type": "code",
   "execution_count": 4,
   "id": "30356839-e596-494d-b19e-e08f219e6bf1",
   "metadata": {},
   "outputs": [
    {
     "data": {
      "text/html": [
       "<div>\n",
       "<style scoped>\n",
       "    .dataframe tbody tr th:only-of-type {\n",
       "        vertical-align: middle;\n",
       "    }\n",
       "\n",
       "    .dataframe tbody tr th {\n",
       "        vertical-align: top;\n",
       "    }\n",
       "\n",
       "    .dataframe thead th {\n",
       "        text-align: right;\n",
       "    }\n",
       "</style>\n",
       "<table border=\"1\" class=\"dataframe\">\n",
       "  <thead>\n",
       "    <tr style=\"text-align: right;\">\n",
       "      <th></th>\n",
       "      <th>SeniorCitizen</th>\n",
       "      <th>tenure</th>\n",
       "      <th>MonthlyCharges</th>\n",
       "    </tr>\n",
       "  </thead>\n",
       "  <tbody>\n",
       "    <tr>\n",
       "      <th>count</th>\n",
       "      <td>7043.000000</td>\n",
       "      <td>7043.000000</td>\n",
       "      <td>7043.000000</td>\n",
       "    </tr>\n",
       "    <tr>\n",
       "      <th>mean</th>\n",
       "      <td>0.162147</td>\n",
       "      <td>32.371149</td>\n",
       "      <td>64.761692</td>\n",
       "    </tr>\n",
       "    <tr>\n",
       "      <th>std</th>\n",
       "      <td>0.368612</td>\n",
       "      <td>24.559481</td>\n",
       "      <td>30.090047</td>\n",
       "    </tr>\n",
       "    <tr>\n",
       "      <th>min</th>\n",
       "      <td>0.000000</td>\n",
       "      <td>0.000000</td>\n",
       "      <td>18.250000</td>\n",
       "    </tr>\n",
       "    <tr>\n",
       "      <th>25%</th>\n",
       "      <td>0.000000</td>\n",
       "      <td>9.000000</td>\n",
       "      <td>35.500000</td>\n",
       "    </tr>\n",
       "    <tr>\n",
       "      <th>50%</th>\n",
       "      <td>0.000000</td>\n",
       "      <td>29.000000</td>\n",
       "      <td>70.350000</td>\n",
       "    </tr>\n",
       "    <tr>\n",
       "      <th>75%</th>\n",
       "      <td>0.000000</td>\n",
       "      <td>55.000000</td>\n",
       "      <td>89.850000</td>\n",
       "    </tr>\n",
       "    <tr>\n",
       "      <th>max</th>\n",
       "      <td>1.000000</td>\n",
       "      <td>72.000000</td>\n",
       "      <td>118.750000</td>\n",
       "    </tr>\n",
       "  </tbody>\n",
       "</table>\n",
       "</div>"
      ],
      "text/plain": [
       "       SeniorCitizen       tenure  MonthlyCharges\n",
       "count    7043.000000  7043.000000     7043.000000\n",
       "mean        0.162147    32.371149       64.761692\n",
       "std         0.368612    24.559481       30.090047\n",
       "min         0.000000     0.000000       18.250000\n",
       "25%         0.000000     9.000000       35.500000\n",
       "50%         0.000000    29.000000       70.350000\n",
       "75%         0.000000    55.000000       89.850000\n",
       "max         1.000000    72.000000      118.750000"
      ]
     },
     "execution_count": 4,
     "metadata": {},
     "output_type": "execute_result"
    }
   ],
   "source": [
    "customer_df.describe() "
   ]
  },
  {
   "cell_type": "code",
   "execution_count": 5,
   "id": "ca1b91c6-f8f7-428c-93e8-3bddc59f271b",
   "metadata": {},
   "outputs": [
    {
     "data": {
      "text/plain": [
       "No     5174\n",
       "Yes    1869\n",
       "Name: Churn, dtype: int64"
      ]
     },
     "execution_count": 5,
     "metadata": {},
     "output_type": "execute_result"
    }
   ],
   "source": [
    "customer_df['Churn'].value_counts()"
   ]
  },
  {
   "cell_type": "markdown",
   "id": "04cbea66-679a-4557-b93c-191f0bd0ea96",
   "metadata": {},
   "source": [
    "Let's visulaize the amount of data imbalance in our target variable. using Seaborn library"
   ]
  },
  {
   "cell_type": "code",
   "execution_count": 6,
   "id": "baebd31e-2e45-4d70-b051-76bbd2eac5be",
   "metadata": {},
   "outputs": [
    {
     "name": "stderr",
     "output_type": "stream",
     "text": [
      "C:\\Users\\Uday Ganti\\anaconda3\\lib\\site-packages\\seaborn\\_decorators.py:36: FutureWarning: Pass the following variable as a keyword arg: x. From version 0.12, the only valid positional argument will be `data`, and passing other arguments without an explicit keyword will result in an error or misinterpretation.\n",
      "  warnings.warn(\n"
     ]
    },
    {
     "data": {
      "text/plain": [
       "<AxesSubplot:xlabel='Churn', ylabel='count'>"
      ]
     },
     "execution_count": 6,
     "metadata": {},
     "output_type": "execute_result"
    },
    {
     "data": {
      "image/png": "[encoded data removed]",
      "text/plain": [
       "<Figure size 432x288 with 1 Axes>"
      ]
     },
     "metadata": {
      "needs_background": "light"
     },
     "output_type": "display_data"
    }
   ],
   "source": [
    "sns.countplot(customer_df.Churn)"
   ]
  },
  {
   "cell_type": "markdown",
   "id": "bd1c881f-882f-4d4a-90cf-aa667ab9f801",
   "metadata": {},
   "source": [
    "### Rename Columns\n",
    "\n",
    "Often times the column names can have blank spaces, or other issues. We often change column names because of this."
   ]
  },
  {
   "cell_type": "code",
   "execution_count": 7,
   "id": "64418ca1-a82d-41f3-9ee6-e079c6dc3fb0",
   "metadata": {},
   "outputs": [
    {
     "data": {
      "text/plain": [
       "Index(['customerID', 'gender', 'SeniorCitizen', 'Partner', 'Dependents',\n",
       "       'tenure', 'PhoneService', 'MultipleLines', 'InternetService',\n",
       "       'OnlineSecurity', 'OnlineBackup', 'DeviceProtection', 'TechSupport',\n",
       "       'StreamingTV', 'StreamingMovies', 'Contract', 'PaperlessBilling',\n",
       "       'PaymentMethod', 'MonthlyCharges', 'TotalCharges', 'Churn'],\n",
       "      dtype='object')"
      ]
     },
     "execution_count": 7,
     "metadata": {},
     "output_type": "execute_result"
    }
   ],
   "source": [
    "customer_df.columns = [s.strip().replace(' ', '_') for s in customer_df.columns]\n",
    "customer_df.columns"
   ]
  },
  {
   "cell_type": "markdown",
   "id": "2f63e980-80d9-4a54-a8f9-cd068a11d4e9",
   "metadata": {},
   "source": [
    "### Drop any columns that are not interested in"
   ]
  },
  {
   "cell_type": "markdown",
   "id": "dc36f8e5-5c8f-45e5-bc66-6cc86d657f40",
   "metadata": {},
   "source": [
    "Variables that are not contributing factors in predicting the Chrun of an customer are removed.\n",
    "We can see that customerID is just a label to the customer, this is not a significant input variable to be considered for prediction."
   ]
  },
  {
   "cell_type": "code",
   "execution_count": 8,
   "id": "9abae2a6-69c5-4a81-abbd-e1ff703d9efb",
   "metadata": {},
   "outputs": [],
   "source": [
    "customer_df = customer_df.drop('customerID', axis=1) # customerID is just a label, this is not a good parameter to be considered for predicting customer behaviour "
   ]
  },
  {
   "cell_type": "code",
   "execution_count": 9,
   "id": "e2531e31-3efb-4975-8e14-11de074f0b30",
   "metadata": {},
   "outputs": [
    {
     "data": {
      "text/plain": [
       "Index(['gender', 'SeniorCitizen', 'Partner', 'Dependents', 'tenure',\n",
       "       'PhoneService', 'MultipleLines', 'InternetService', 'OnlineSecurity',\n",
       "       'OnlineBackup', 'DeviceProtection', 'TechSupport', 'StreamingTV',\n",
       "       'StreamingMovies', 'Contract', 'PaperlessBilling', 'PaymentMethod',\n",
       "       'MonthlyCharges', 'TotalCharges', 'Churn'],\n",
       "      dtype='object')"
      ]
     },
     "execution_count": 9,
     "metadata": {},
     "output_type": "execute_result"
    }
   ],
   "source": [
    "customer_df.columns"
   ]
  },
  {
   "cell_type": "markdown",
   "id": "d1ee8b5a-a9f7-455d-ae98-2c4f18f01e5c",
   "metadata": {
    "tags": []
   },
   "source": [
    "### Identify and Handle Any Missing Data\n",
    "First, let's identify any columns that contain missing data..."
   ]
  },
  {
   "cell_type": "code",
   "execution_count": 10,
   "id": "f0050f04-1fd8-4ab8-8b31-d4922c08b1dd",
   "metadata": {},
   "outputs": [
    {
     "data": {
      "text/plain": [
       "gender              0\n",
       "SeniorCitizen       0\n",
       "Partner             0\n",
       "Dependents          0\n",
       "tenure              0\n",
       "PhoneService        0\n",
       "MultipleLines       0\n",
       "InternetService     0\n",
       "OnlineSecurity      0\n",
       "OnlineBackup        0\n",
       "DeviceProtection    0\n",
       "TechSupport         0\n",
       "StreamingTV         0\n",
       "StreamingMovies     0\n",
       "Contract            0\n",
       "PaperlessBilling    0\n",
       "PaymentMethod       0\n",
       "MonthlyCharges      0\n",
       "TotalCharges        0\n",
       "Churn               0\n",
       "dtype: int64"
      ]
     },
     "execution_count": 10,
     "metadata": {},
     "output_type": "execute_result"
    }
   ],
   "source": [
    "customer_df.isna().sum()"
   ]
  },
  {
   "cell_type": "markdown",
   "id": "5527874b-c17d-48c3-adc2-9b9b93cd04fa",
   "metadata": {},
   "source": [
    "There is no null value, but there are some empty string values in the TotalCharges variable. Which we found out when converting the TotalCharges variable from object to float datatype. So, we are backtracking to fix the empty string values in TotalCharges variable."
   ]
  },
  {
   "cell_type": "code",
   "execution_count": 11,
   "id": "411b7925-da2a-4687-9b90-910075c0b087",
   "metadata": {},
   "outputs": [
    {
     "data": {
      "text/plain": [
       "gender               object\n",
       "SeniorCitizen         int64\n",
       "Partner              object\n",
       "Dependents           object\n",
       "tenure                int64\n",
       "PhoneService         object\n",
       "MultipleLines        object\n",
       "InternetService      object\n",
       "OnlineSecurity       object\n",
       "OnlineBackup         object\n",
       "DeviceProtection     object\n",
       "TechSupport          object\n",
       "StreamingTV          object\n",
       "StreamingMovies      object\n",
       "Contract             object\n",
       "PaperlessBilling     object\n",
       "PaymentMethod        object\n",
       "MonthlyCharges      float64\n",
       "TotalCharges         object\n",
       "Churn                object\n",
       "dtype: object"
      ]
     },
     "execution_count": 11,
     "metadata": {},
     "output_type": "execute_result"
    }
   ],
   "source": [
    "customer_df.dtypes"
   ]
  },
  {
   "cell_type": "markdown",
   "id": "b1089b66-e4ec-462e-9991-56fe6ad02c31",
   "metadata": {},
   "source": [
    "Since TotalCharges variable has empty strings and it is in Object data type. We are using regex patterns to find and replace empty string values with NaN as a part of data cleaning."
   ]
  },
  {
   "cell_type": "code",
   "execution_count": 12,
   "id": "75f0cb36-d46b-416a-9f32-cb22c4c5d280",
   "metadata": {},
   "outputs": [],
   "source": [
    "customer_df = customer_df.replace(r'^\\s*$', np.nan, regex=True)"
   ]
  },
  {
   "cell_type": "markdown",
   "id": "108cbd9b-492d-4d9f-a217-e86cddaca518",
   "metadata": {},
   "source": [
    "Identified TotalCharges as float value but its datatype is in object. Converting the datatype of TotalCharges to float64. Now calculating the number of null values.\n",
    "We can see that there are 11 empty strings that are converted to null"
   ]
  },
  {
   "cell_type": "code",
   "execution_count": 13,
   "id": "ce2a8492-87d8-4e32-b372-cbad29551da9",
   "metadata": {},
   "outputs": [
    {
     "data": {
      "text/plain": [
       "11"
      ]
     },
     "execution_count": 13,
     "metadata": {},
     "output_type": "execute_result"
    }
   ],
   "source": [
    "customer_df.TotalCharges.isna().sum()"
   ]
  },
  {
   "cell_type": "code",
   "execution_count": 14,
   "id": "0182ae1f-bbf9-4a1e-92d7-22cd2dea23e9",
   "metadata": {},
   "outputs": [],
   "source": [
    "customer_df[\"TotalCharges\"] = pd.to_numeric(customer_df[\"TotalCharges\"])"
   ]
  },
  {
   "cell_type": "markdown",
   "id": "6bea0d12-11a9-48e5-9c57-c6947f9fc850",
   "metadata": {},
   "source": [
    "### Imputing missing values with mean"
   ]
  },
  {
   "cell_type": "code",
   "execution_count": 15,
   "id": "9cdf34bd-96d3-4a43-8b52-8755d4a37480",
   "metadata": {},
   "outputs": [],
   "source": [
    "mean_TotalCharges = customer_df['TotalCharges'].mean()\n",
    "\n",
    "customer_df.TotalCharges = customer_df.TotalCharges.fillna(value=mean_TotalCharges)"
   ]
  },
  {
   "cell_type": "markdown",
   "id": "ed9c0158-bebd-439f-923e-f5055df07f25",
   "metadata": {},
   "source": [
    "Contract variable contains ordinal value, so converting it to values of int64 datatype by the number of months."
   ]
  },
  {
   "cell_type": "markdown",
   "id": "7c2787b0-b416-4b1a-bc07-bd5460e1b8f0",
   "metadata": {},
   "source": [
    "## Relationship between Gender and Churn"
   ]
  },
  {
   "cell_type": "code",
   "execution_count": 16,
   "id": "85065c30-0a89-463d-8fa1-9c98d355e915",
   "metadata": {},
   "outputs": [
    {
     "name": "stderr",
     "output_type": "stream",
     "text": [
      "C:\\Users\\Uday Ganti\\anaconda3\\lib\\site-packages\\seaborn\\_decorators.py:36: FutureWarning: Pass the following variable as a keyword arg: x. From version 0.12, the only valid positional argument will be `data`, and passing other arguments without an explicit keyword will result in an error or misinterpretation.\n",
      "  warnings.warn(\n"
     ]
    },
    {
     "data": {
      "text/plain": [
       "<AxesSubplot:xlabel='Churn', ylabel='count'>"
      ]
     },
     "execution_count": 16,
     "metadata": {},
     "output_type": "execute_result"
    },
    {
     "data": {
      "image/png": "[encoded data removed]",
      "text/plain": [
       "<Figure size 432x288 with 1 Axes>"
      ]
     },
     "metadata": {
      "needs_background": "light"
     },
     "output_type": "display_data"
    }
   ],
   "source": [
    "sns.countplot(\"Churn\", data=customer_df,hue=\"gender\")"
   ]
  },
  {
   "cell_type": "markdown",
   "id": "87d618d6-40c3-4c10-abc1-470ee82927d6",
   "metadata": {},
   "source": [
    "It is apparent from the graph above that 'gender' is not a significant contributing factor for churn.\n",
    "\n",
    "Information like this is helpful to marketing and advertizing teams of this company as it will provide a target demographic they can focus on."
   ]
  },
  {
   "cell_type": "markdown",
   "id": "0a569a14-dd70-4cf0-938b-b23551e0083a",
   "metadata": {},
   "source": [
    "## Relationship between Contract Duration and Churn"
   ]
  },
  {
   "cell_type": "code",
   "execution_count": 17,
   "id": "1ef7a3ef-79f8-4a07-b842-12b1c4ba8fb2",
   "metadata": {},
   "outputs": [
    {
     "name": "stderr",
     "output_type": "stream",
     "text": [
      "C:\\Users\\Uday Ganti\\anaconda3\\lib\\site-packages\\seaborn\\_decorators.py:36: FutureWarning: Pass the following variable as a keyword arg: x. From version 0.12, the only valid positional argument will be `data`, and passing other arguments without an explicit keyword will result in an error or misinterpretation.\n",
      "  warnings.warn(\n"
     ]
    },
    {
     "data": {
      "text/plain": [
       "<AxesSubplot:xlabel='Churn', ylabel='count'>"
      ]
     },
     "execution_count": 17,
     "metadata": {},
     "output_type": "execute_result"
    },
    {
     "data": {
      "image/png": "[encoded data removed]",
      "text/plain": [
       "<Figure size 432x288 with 1 Axes>"
      ]
     },
     "metadata": {
      "needs_background": "light"
     },
     "output_type": "display_data"
    }
   ],
   "source": [
    "sns.countplot(\"Churn\", data=customer_df,hue=\"Contract\")"
   ]
  },
  {
   "cell_type": "markdown",
   "id": "ff51a533-8582-4f7f-8044-ba9977b2d002",
   "metadata": {},
   "source": [
    "Customers with longer contracts tend to churn less.\n",
    "\n",
    "This kind of information can help marketing teams identify the products that need to be pushed to a higher degree. Insentives should be provided to make customers select longer contracts over short ones."
   ]
  },
  {
   "cell_type": "markdown",
   "id": "44a56cbd-7202-4485-a1dd-e857a192f462",
   "metadata": {},
   "source": [
    "## Relationship between Internet Service and Churn"
   ]
  },
  {
   "cell_type": "code",
   "execution_count": 18,
   "id": "3c923e50-eec9-44ce-b176-03bc7662e4ac",
   "metadata": {},
   "outputs": [
    {
     "name": "stderr",
     "output_type": "stream",
     "text": [
      "C:\\Users\\Uday Ganti\\anaconda3\\lib\\site-packages\\seaborn\\_decorators.py:36: FutureWarning: Pass the following variable as a keyword arg: x. From version 0.12, the only valid positional argument will be `data`, and passing other arguments without an explicit keyword will result in an error or misinterpretation.\n",
      "  warnings.warn(\n"
     ]
    },
    {
     "data": {
      "text/plain": [
       "<AxesSubplot:xlabel='Churn', ylabel='count'>"
      ]
     },
     "execution_count": 18,
     "metadata": {},
     "output_type": "execute_result"
    },
    {
     "data": {
      "image/png": "[encoded data removed]",
      "text/plain": [
       "<Figure size 432x288 with 1 Axes>"
      ]
     },
     "metadata": {
      "needs_background": "light"
     },
     "output_type": "display_data"
    }
   ],
   "source": [
    "sns.countplot(\"Churn\", data=customer_df,hue=(\"InternetService\"))"
   ]
  },
  {
   "cell_type": "markdown",
   "id": "4c5b880f-7047-4745-91a9-ae784d6a9f12",
   "metadata": {},
   "source": [
    "Customers who have opted for 'fiber optic' internet service are more likely to churn. \n",
    "\n",
    "This information helps leadership identify which division of the company is underperforming and propose changes to fix the problems that are causing the dip in performance."
   ]
  },
  {
   "cell_type": "markdown",
   "id": "fdecf8b8-3c10-4174-ba31-e2dea4ac5fde",
   "metadata": {},
   "source": [
    "## Relationship between being a Senior Citizen and Churn"
   ]
  },
  {
   "cell_type": "code",
   "execution_count": 19,
   "id": "2fa97c08-f7c0-40be-b690-41d841ef80b9",
   "metadata": {},
   "outputs": [
    {
     "data": {
      "text/plain": [
       "Text(0.5, 1.0, '% of Senior Citizen')"
      ]
     },
     "execution_count": 19,
     "metadata": {},
     "output_type": "execute_result"
    },
    {
     "data": {
      "image/png": "[encoded data removed]",
      "text/plain": [
       "<Figure size 432x288 with 1 Axes>"
      ]
     },
     "metadata": {},
     "output_type": "display_data"
    }
   ],
   "source": [
    "customer_df['SeniorCitizen'].value_counts().plot.pie(autopct='%1.1f%%');\n",
    "plt.title(\"% of Senior Citizen\")"
   ]
  },
  {
   "cell_type": "markdown",
   "id": "9a3e6bd4-e947-4d01-a5f1-308165664da6",
   "metadata": {},
   "source": [
    "While looking into who the most loyal customers will be, if you look at this graph, you might believe that senior citizens are most likely to stay loyal. So, focusing on marketing campaigns for senior citizens whould be the obvious step to take.\n",
    "\n",
    "In this case, however, industry knowledge proves to be more relevant than data. Senior Citizins have their mobile plans picked by younger people. So targeting them with benefits pertaining to 'family plans' might be a better apporch to gain more profit in this case."
   ]
  },
  {
   "cell_type": "markdown",
   "id": "48951cc5-7ddd-4c45-9db1-6a17ad0ac894",
   "metadata": {},
   "source": [
    "## Relationship between TechSupport and Churn"
   ]
  },
  {
   "cell_type": "code",
   "execution_count": 20,
   "id": "6c435bbd-31ae-4f81-aab7-73e4ec91eb88",
   "metadata": {},
   "outputs": [
    {
     "name": "stderr",
     "output_type": "stream",
     "text": [
      "C:\\Users\\Uday Ganti\\anaconda3\\lib\\site-packages\\seaborn\\_decorators.py:36: FutureWarning: Pass the following variable as a keyword arg: x. From version 0.12, the only valid positional argument will be `data`, and passing other arguments without an explicit keyword will result in an error or misinterpretation.\n",
      "  warnings.warn(\n"
     ]
    },
    {
     "data": {
      "text/plain": [
       "<AxesSubplot:xlabel='Churn', ylabel='count'>"
      ]
     },
     "execution_count": 20,
     "metadata": {},
     "output_type": "execute_result"
    },
    {
     "data": {
      "image/png": "[encoded data removed]",
      "text/plain": [
       "<Figure size 432x288 with 1 Axes>"
      ]
     },
     "metadata": {
      "needs_background": "light"
     },
     "output_type": "display_data"
    }
   ],
   "source": [
    "sns.countplot(\"Churn\", data=customer_df,hue=customer_df[\"TechSupport\"])"
   ]
  },
  {
   "cell_type": "markdown",
   "id": "6d9f8f09-6555-485a-b3fe-6ed4f4c5d19d",
   "metadata": {},
   "source": [
    "Data like this can also be used as proof of concept for future ideas.\n",
    "\n",
    "For example, in the above data, we can see that customers who opted for tech support are significantly less likely to churn. This serves as proof that \"fixing customer problems by approchinng them proactively\" will lead to greater customer retention."
   ]
  },
  {
   "cell_type": "markdown",
   "id": "8f939b5d-a3cd-40bb-85cc-10062b0663b4",
   "metadata": {},
   "source": [
    "### Encoding input and output variables"
   ]
  },
  {
   "cell_type": "markdown",
   "id": "31818338-5269-484e-b9db-1621020a80ac",
   "metadata": {},
   "source": [
    "#### encoding input ordinal variables"
   ]
  },
  {
   "cell_type": "code",
   "execution_count": 21,
   "id": "eea98ae7-fa6e-4eb9-924a-42a36b547af8",
   "metadata": {},
   "outputs": [
    {
     "data": {
      "text/plain": [
       "array(['Month-to-month', 'One year', 'Two year'], dtype=object)"
      ]
     },
     "execution_count": 21,
     "metadata": {},
     "output_type": "execute_result"
    }
   ],
   "source": [
    "customer_df['Contract'].unique()"
   ]
  },
  {
   "cell_type": "markdown",
   "id": "a9ce7529-4b95-4980-9c36-da3077fc4ce5",
   "metadata": {},
   "source": [
    "We see that that the contract variable is in string object, having ordinal value. This can be encoded as ordinal value. For better clarification and to avoid using fractional numbers for month, I convert all values to its equivaluent number of months"
   ]
  },
  {
   "cell_type": "code",
   "execution_count": 22,
   "id": "724c4ce6-118d-4e5f-9cd5-da301cfec9c2",
   "metadata": {},
   "outputs": [],
   "source": [
    "scale_contract = {'Month-to-month':1, 'One year': 12, 'Two year':24}\n",
    "customer_df['Contract'] = customer_df['Contract'].replace(scale_contract)\n",
    "customer_df[\"Contract\"] = pd.to_numeric(customer_df[\"Contract\"])"
   ]
  },
  {
   "cell_type": "markdown",
   "id": "41832749-c719-474c-88dd-d1933c73f7a9",
   "metadata": {
    "tags": []
   },
   "source": [
    "#### Output variables are encoded with Label encoder"
   ]
  },
  {
   "cell_type": "code",
   "execution_count": 23,
   "id": "16c03fa1-2ebc-4077-af80-cdf7b273b331",
   "metadata": {
    "tags": []
   },
   "outputs": [],
   "source": [
    "le = LabelEncoder()\n",
    "customer_df['Churn'] = le.fit_transform(customer_df['Churn'])"
   ]
  },
  {
   "cell_type": "markdown",
   "id": "b9964d32-9667-4576-9beb-bfb39421e387",
   "metadata": {
    "tags": []
   },
   "source": [
    "### Identify and convert any categorical data"
   ]
  },
  {
   "cell_type": "markdown",
   "id": "da2e2d3e-c33e-4cc3-b0e3-f1bbe741fa45",
   "metadata": {},
   "source": [
    "Indentifying the categorical variables"
   ]
  },
  {
   "cell_type": "code",
   "execution_count": 24,
   "id": "09671593-5016-4aa3-ba27-bd0ac2604b9a",
   "metadata": {},
   "outputs": [
    {
     "data": {
      "text/plain": [
       "gender               object\n",
       "SeniorCitizen         int64\n",
       "Partner              object\n",
       "Dependents           object\n",
       "tenure                int64\n",
       "PhoneService         object\n",
       "MultipleLines        object\n",
       "InternetService      object\n",
       "OnlineSecurity       object\n",
       "OnlineBackup         object\n",
       "DeviceProtection     object\n",
       "TechSupport          object\n",
       "StreamingTV          object\n",
       "StreamingMovies      object\n",
       "Contract              int64\n",
       "PaperlessBilling     object\n",
       "PaymentMethod        object\n",
       "MonthlyCharges      float64\n",
       "TotalCharges        float64\n",
       "Churn                 int32\n",
       "dtype: object"
      ]
     },
     "execution_count": 24,
     "metadata": {},
     "output_type": "execute_result"
    }
   ],
   "source": [
    "customer_df.dtypes"
   ]
  },
  {
   "cell_type": "markdown",
   "id": "6368031d-69ad-451a-8a90-10cd8f509e43",
   "metadata": {},
   "source": [
    "Verifying some of the categorical variable values and identifying them for dummy encoding or ordinal encoding."
   ]
  },
  {
   "cell_type": "code",
   "execution_count": 25,
   "id": "405dfb6f-8cc4-4694-9cb5-27f0fad6b1f5",
   "metadata": {},
   "outputs": [
    {
     "data": {
      "text/html": [
       "<div>\n",
       "<style scoped>\n",
       "    .dataframe tbody tr th:only-of-type {\n",
       "        vertical-align: middle;\n",
       "    }\n",
       "\n",
       "    .dataframe tbody tr th {\n",
       "        vertical-align: top;\n",
       "    }\n",
       "\n",
       "    .dataframe thead th {\n",
       "        text-align: right;\n",
       "    }\n",
       "</style>\n",
       "<table border=\"1\" class=\"dataframe\">\n",
       "  <thead>\n",
       "    <tr style=\"text-align: right;\">\n",
       "      <th></th>\n",
       "      <th>gender</th>\n",
       "      <th>SeniorCitizen</th>\n",
       "      <th>Partner</th>\n",
       "      <th>Dependents</th>\n",
       "      <th>tenure</th>\n",
       "      <th>PhoneService</th>\n",
       "      <th>MultipleLines</th>\n",
       "      <th>InternetService</th>\n",
       "      <th>OnlineSecurity</th>\n",
       "      <th>OnlineBackup</th>\n",
       "      <th>DeviceProtection</th>\n",
       "      <th>TechSupport</th>\n",
       "      <th>StreamingTV</th>\n",
       "      <th>StreamingMovies</th>\n",
       "      <th>Contract</th>\n",
       "      <th>PaperlessBilling</th>\n",
       "      <th>PaymentMethod</th>\n",
       "      <th>MonthlyCharges</th>\n",
       "      <th>TotalCharges</th>\n",
       "      <th>Churn</th>\n",
       "    </tr>\n",
       "  </thead>\n",
       "  <tbody>\n",
       "    <tr>\n",
       "      <th>0</th>\n",
       "      <td>Female</td>\n",
       "      <td>0</td>\n",
       "      <td>Yes</td>\n",
       "      <td>No</td>\n",
       "      <td>1</td>\n",
       "      <td>No</td>\n",
       "      <td>No phone service</td>\n",
       "      <td>DSL</td>\n",
       "      <td>No</td>\n",
       "      <td>Yes</td>\n",
       "      <td>No</td>\n",
       "      <td>No</td>\n",
       "      <td>No</td>\n",
       "      <td>No</td>\n",
       "      <td>1</td>\n",
       "      <td>Yes</td>\n",
       "      <td>Electronic check</td>\n",
       "      <td>29.85</td>\n",
       "      <td>29.85</td>\n",
       "      <td>0</td>\n",
       "    </tr>\n",
       "    <tr>\n",
       "      <th>1</th>\n",
       "      <td>Male</td>\n",
       "      <td>0</td>\n",
       "      <td>No</td>\n",
       "      <td>No</td>\n",
       "      <td>34</td>\n",
       "      <td>Yes</td>\n",
       "      <td>No</td>\n",
       "      <td>DSL</td>\n",
       "      <td>Yes</td>\n",
       "      <td>No</td>\n",
       "      <td>Yes</td>\n",
       "      <td>No</td>\n",
       "      <td>No</td>\n",
       "      <td>No</td>\n",
       "      <td>12</td>\n",
       "      <td>No</td>\n",
       "      <td>Mailed check</td>\n",
       "      <td>56.95</td>\n",
       "      <td>1889.50</td>\n",
       "      <td>0</td>\n",
       "    </tr>\n",
       "    <tr>\n",
       "      <th>2</th>\n",
       "      <td>Male</td>\n",
       "      <td>0</td>\n",
       "      <td>No</td>\n",
       "      <td>No</td>\n",
       "      <td>2</td>\n",
       "      <td>Yes</td>\n",
       "      <td>No</td>\n",
       "      <td>DSL</td>\n",
       "      <td>Yes</td>\n",
       "      <td>Yes</td>\n",
       "      <td>No</td>\n",
       "      <td>No</td>\n",
       "      <td>No</td>\n",
       "      <td>No</td>\n",
       "      <td>1</td>\n",
       "      <td>Yes</td>\n",
       "      <td>Mailed check</td>\n",
       "      <td>53.85</td>\n",
       "      <td>108.15</td>\n",
       "      <td>1</td>\n",
       "    </tr>\n",
       "    <tr>\n",
       "      <th>3</th>\n",
       "      <td>Male</td>\n",
       "      <td>0</td>\n",
       "      <td>No</td>\n",
       "      <td>No</td>\n",
       "      <td>45</td>\n",
       "      <td>No</td>\n",
       "      <td>No phone service</td>\n",
       "      <td>DSL</td>\n",
       "      <td>Yes</td>\n",
       "      <td>No</td>\n",
       "      <td>Yes</td>\n",
       "      <td>Yes</td>\n",
       "      <td>No</td>\n",
       "      <td>No</td>\n",
       "      <td>12</td>\n",
       "      <td>No</td>\n",
       "      <td>Bank transfer (automatic)</td>\n",
       "      <td>42.30</td>\n",
       "      <td>1840.75</td>\n",
       "      <td>0</td>\n",
       "    </tr>\n",
       "    <tr>\n",
       "      <th>4</th>\n",
       "      <td>Female</td>\n",
       "      <td>0</td>\n",
       "      <td>No</td>\n",
       "      <td>No</td>\n",
       "      <td>2</td>\n",
       "      <td>Yes</td>\n",
       "      <td>No</td>\n",
       "      <td>Fiber optic</td>\n",
       "      <td>No</td>\n",
       "      <td>No</td>\n",
       "      <td>No</td>\n",
       "      <td>No</td>\n",
       "      <td>No</td>\n",
       "      <td>No</td>\n",
       "      <td>1</td>\n",
       "      <td>Yes</td>\n",
       "      <td>Electronic check</td>\n",
       "      <td>70.70</td>\n",
       "      <td>151.65</td>\n",
       "      <td>1</td>\n",
       "    </tr>\n",
       "  </tbody>\n",
       "</table>\n",
       "</div>"
      ],
      "text/plain": [
       "   gender  SeniorCitizen Partner Dependents  tenure PhoneService  \\\n",
       "0  Female              0     Yes         No       1           No   \n",
       "1    Male              0      No         No      34          Yes   \n",
       "2    Male              0      No         No       2          Yes   \n",
       "3    Male              0      No         No      45           No   \n",
       "4  Female              0      No         No       2          Yes   \n",
       "\n",
       "      MultipleLines InternetService OnlineSecurity OnlineBackup  \\\n",
       "0  No phone service             DSL             No          Yes   \n",
       "1                No             DSL            Yes           No   \n",
       "2                No             DSL            Yes          Yes   \n",
       "3  No phone service             DSL            Yes           No   \n",
       "4                No     Fiber optic             No           No   \n",
       "\n",
       "  DeviceProtection TechSupport StreamingTV StreamingMovies  Contract  \\\n",
       "0               No          No          No              No         1   \n",
       "1              Yes          No          No              No        12   \n",
       "2               No          No          No              No         1   \n",
       "3              Yes         Yes          No              No        12   \n",
       "4               No          No          No              No         1   \n",
       "\n",
       "  PaperlessBilling              PaymentMethod  MonthlyCharges  TotalCharges  \\\n",
       "0              Yes           Electronic check           29.85         29.85   \n",
       "1               No               Mailed check           56.95       1889.50   \n",
       "2              Yes               Mailed check           53.85        108.15   \n",
       "3               No  Bank transfer (automatic)           42.30       1840.75   \n",
       "4              Yes           Electronic check           70.70        151.65   \n",
       "\n",
       "   Churn  \n",
       "0      0  \n",
       "1      0  \n",
       "2      1  \n",
       "3      0  \n",
       "4      1  "
      ]
     },
     "execution_count": 25,
     "metadata": {},
     "output_type": "execute_result"
    }
   ],
   "source": [
    "customer_df.head(5)"
   ]
  },
  {
   "cell_type": "markdown",
   "id": "5805c577-db2f-4880-ab0a-633bdaa42701",
   "metadata": {},
   "source": [
    "#### Dummy encoding for input categorical variables."
   ]
  },
  {
   "cell_type": "markdown",
   "id": "b10e73d1-d430-4c7e-bbe8-ecd66965c75c",
   "metadata": {},
   "source": [
    "Converting categorical variable datatype from objec to category for dummy encoding."
   ]
  },
  {
   "cell_type": "code",
   "execution_count": 26,
   "id": "90b42640-b8f2-4043-a5ec-4e1b9bc81bfa",
   "metadata": {},
   "outputs": [],
   "source": [
    "customer_df.gender = customer_df.gender.astype('category')\n",
    "customer_df.Partner = customer_df.Partner.astype('category')\n",
    "customer_df.Dependents = customer_df.Dependents.astype('category')\n",
    "customer_df.PhoneService = customer_df.PhoneService.astype('category')\n",
    "customer_df.MultipleLines = customer_df.MultipleLines.astype('category')\n",
    "customer_df.InternetService = customer_df.InternetService.astype('category')\n",
    "customer_df.OnlineSecurity = customer_df.OnlineSecurity.astype('category')\n",
    "customer_df.OnlineBackup = customer_df.OnlineBackup.astype('category')\n",
    "customer_df.DeviceProtection = customer_df.DeviceProtection.astype('category')\n",
    "customer_df.TechSupport = customer_df.TechSupport.astype('category')\n",
    "customer_df.StreamingTV = customer_df.StreamingTV.astype('category')\n",
    "customer_df.StreamingMovies = customer_df.StreamingMovies.astype('category')\n",
    "customer_df.PaperlessBilling = customer_df.PaperlessBilling.astype('category')\n",
    "customer_df.PaymentMethod = customer_df.PaymentMethod.astype('category')"
   ]
  },
  {
   "cell_type": "code",
   "execution_count": 27,
   "id": "59a39e4e-0821-44cb-96e8-64440f6bd4f3",
   "metadata": {},
   "outputs": [
    {
     "data": {
      "text/plain": [
       "Index(['SeniorCitizen', 'tenure', 'Contract', 'MonthlyCharges', 'TotalCharges',\n",
       "       'Churn', 'gender_Male', 'Partner_Yes', 'Dependents_Yes',\n",
       "       'PhoneService_Yes', 'MultipleLines_No phone service',\n",
       "       'MultipleLines_Yes', 'InternetService_Fiber optic',\n",
       "       'InternetService_No', 'OnlineSecurity_No internet service',\n",
       "       'OnlineSecurity_Yes', 'OnlineBackup_No internet service',\n",
       "       'OnlineBackup_Yes', 'DeviceProtection_No internet service',\n",
       "       'DeviceProtection_Yes', 'TechSupport_No internet service',\n",
       "       'TechSupport_Yes', 'StreamingTV_No internet service', 'StreamingTV_Yes',\n",
       "       'StreamingMovies_No internet service', 'StreamingMovies_Yes',\n",
       "       'PaperlessBilling_Yes', 'PaymentMethod_Credit card (automatic)',\n",
       "       'PaymentMethod_Electronic check', 'PaymentMethod_Mailed check'],\n",
       "      dtype='object')"
      ]
     },
     "execution_count": 27,
     "metadata": {},
     "output_type": "execute_result"
    }
   ],
   "source": [
    "customer_df = pd.get_dummies(customer_df, prefix_sep='_', drop_first=True)\n",
    "customer_df.columns"
   ]
  },
  {
   "cell_type": "code",
   "execution_count": 28,
   "id": "ab66ba45-44c9-4704-8650-f36320a909fc",
   "metadata": {},
   "outputs": [
    {
     "data": {
      "text/html": [
       "<div>\n",
       "<style scoped>\n",
       "    .dataframe tbody tr th:only-of-type {\n",
       "        vertical-align: middle;\n",
       "    }\n",
       "\n",
       "    .dataframe tbody tr th {\n",
       "        vertical-align: top;\n",
       "    }\n",
       "\n",
       "    .dataframe thead th {\n",
       "        text-align: right;\n",
       "    }\n",
       "</style>\n",
       "<table border=\"1\" class=\"dataframe\">\n",
       "  <thead>\n",
       "    <tr style=\"text-align: right;\">\n",
       "      <th></th>\n",
       "      <th>SeniorCitizen</th>\n",
       "      <th>tenure</th>\n",
       "      <th>Contract</th>\n",
       "      <th>MonthlyCharges</th>\n",
       "      <th>TotalCharges</th>\n",
       "      <th>Churn</th>\n",
       "      <th>gender_Male</th>\n",
       "      <th>Partner_Yes</th>\n",
       "      <th>Dependents_Yes</th>\n",
       "      <th>PhoneService_Yes</th>\n",
       "      <th>...</th>\n",
       "      <th>TechSupport_No internet service</th>\n",
       "      <th>TechSupport_Yes</th>\n",
       "      <th>StreamingTV_No internet service</th>\n",
       "      <th>StreamingTV_Yes</th>\n",
       "      <th>StreamingMovies_No internet service</th>\n",
       "      <th>StreamingMovies_Yes</th>\n",
       "      <th>PaperlessBilling_Yes</th>\n",
       "      <th>PaymentMethod_Credit card (automatic)</th>\n",
       "      <th>PaymentMethod_Electronic check</th>\n",
       "      <th>PaymentMethod_Mailed check</th>\n",
       "    </tr>\n",
       "  </thead>\n",
       "  <tbody>\n",
       "    <tr>\n",
       "      <th>0</th>\n",
       "      <td>0</td>\n",
       "      <td>1</td>\n",
       "      <td>1</td>\n",
       "      <td>29.85</td>\n",
       "      <td>29.85</td>\n",
       "      <td>0</td>\n",
       "      <td>0</td>\n",
       "      <td>1</td>\n",
       "      <td>0</td>\n",
       "      <td>0</td>\n",
       "      <td>...</td>\n",
       "      <td>0</td>\n",
       "      <td>0</td>\n",
       "      <td>0</td>\n",
       "      <td>0</td>\n",
       "      <td>0</td>\n",
       "      <td>0</td>\n",
       "      <td>1</td>\n",
       "      <td>0</td>\n",
       "      <td>1</td>\n",
       "      <td>0</td>\n",
       "    </tr>\n",
       "    <tr>\n",
       "      <th>1</th>\n",
       "      <td>0</td>\n",
       "      <td>34</td>\n",
       "      <td>12</td>\n",
       "      <td>56.95</td>\n",
       "      <td>1889.50</td>\n",
       "      <td>0</td>\n",
       "      <td>1</td>\n",
       "      <td>0</td>\n",
       "      <td>0</td>\n",
       "      <td>1</td>\n",
       "      <td>...</td>\n",
       "      <td>0</td>\n",
       "      <td>0</td>\n",
       "      <td>0</td>\n",
       "      <td>0</td>\n",
       "      <td>0</td>\n",
       "      <td>0</td>\n",
       "      <td>0</td>\n",
       "      <td>0</td>\n",
       "      <td>0</td>\n",
       "      <td>1</td>\n",
       "    </tr>\n",
       "    <tr>\n",
       "      <th>2</th>\n",
       "      <td>0</td>\n",
       "      <td>2</td>\n",
       "      <td>1</td>\n",
       "      <td>53.85</td>\n",
       "      <td>108.15</td>\n",
       "      <td>1</td>\n",
       "      <td>1</td>\n",
       "      <td>0</td>\n",
       "      <td>0</td>\n",
       "      <td>1</td>\n",
       "      <td>...</td>\n",
       "      <td>0</td>\n",
       "      <td>0</td>\n",
       "      <td>0</td>\n",
       "      <td>0</td>\n",
       "      <td>0</td>\n",
       "      <td>0</td>\n",
       "      <td>1</td>\n",
       "      <td>0</td>\n",
       "      <td>0</td>\n",
       "      <td>1</td>\n",
       "    </tr>\n",
       "    <tr>\n",
       "      <th>3</th>\n",
       "      <td>0</td>\n",
       "      <td>45</td>\n",
       "      <td>12</td>\n",
       "      <td>42.30</td>\n",
       "      <td>1840.75</td>\n",
       "      <td>0</td>\n",
       "      <td>1</td>\n",
       "      <td>0</td>\n",
       "      <td>0</td>\n",
       "      <td>0</td>\n",
       "      <td>...</td>\n",
       "      <td>0</td>\n",
       "      <td>1</td>\n",
       "      <td>0</td>\n",
       "      <td>0</td>\n",
       "      <td>0</td>\n",
       "      <td>0</td>\n",
       "      <td>0</td>\n",
       "      <td>0</td>\n",
       "      <td>0</td>\n",
       "      <td>0</td>\n",
       "    </tr>\n",
       "    <tr>\n",
       "      <th>4</th>\n",
       "      <td>0</td>\n",
       "      <td>2</td>\n",
       "      <td>1</td>\n",
       "      <td>70.70</td>\n",
       "      <td>151.65</td>\n",
       "      <td>1</td>\n",
       "      <td>0</td>\n",
       "      <td>0</td>\n",
       "      <td>0</td>\n",
       "      <td>1</td>\n",
       "      <td>...</td>\n",
       "      <td>0</td>\n",
       "      <td>0</td>\n",
       "      <td>0</td>\n",
       "      <td>0</td>\n",
       "      <td>0</td>\n",
       "      <td>0</td>\n",
       "      <td>1</td>\n",
       "      <td>0</td>\n",
       "      <td>1</td>\n",
       "      <td>0</td>\n",
       "    </tr>\n",
       "  </tbody>\n",
       "</table>\n",
       "<p>5 rows × 30 columns</p>\n",
       "</div>"
      ],
      "text/plain": [
       "   SeniorCitizen  tenure  Contract  MonthlyCharges  TotalCharges  Churn  \\\n",
       "0              0       1         1           29.85         29.85      0   \n",
       "1              0      34        12           56.95       1889.50      0   \n",
       "2              0       2         1           53.85        108.15      1   \n",
       "3              0      45        12           42.30       1840.75      0   \n",
       "4              0       2         1           70.70        151.65      1   \n",
       "\n",
       "   gender_Male  Partner_Yes  Dependents_Yes  PhoneService_Yes  ...  \\\n",
       "0            0            1               0                 0  ...   \n",
       "1            1            0               0                 1  ...   \n",
       "2            1            0               0                 1  ...   \n",
       "3            1            0               0                 0  ...   \n",
       "4            0            0               0                 1  ...   \n",
       "\n",
       "   TechSupport_No internet service  TechSupport_Yes  \\\n",
       "0                                0                0   \n",
       "1                                0                0   \n",
       "2                                0                0   \n",
       "3                                0                1   \n",
       "4                                0                0   \n",
       "\n",
       "   StreamingTV_No internet service  StreamingTV_Yes  \\\n",
       "0                                0                0   \n",
       "1                                0                0   \n",
       "2                                0                0   \n",
       "3                                0                0   \n",
       "4                                0                0   \n",
       "\n",
       "   StreamingMovies_No internet service  StreamingMovies_Yes  \\\n",
       "0                                    0                    0   \n",
       "1                                    0                    0   \n",
       "2                                    0                    0   \n",
       "3                                    0                    0   \n",
       "4                                    0                    0   \n",
       "\n",
       "   PaperlessBilling_Yes  PaymentMethod_Credit card (automatic)  \\\n",
       "0                     1                                      0   \n",
       "1                     0                                      0   \n",
       "2                     1                                      0   \n",
       "3                     0                                      0   \n",
       "4                     1                                      0   \n",
       "\n",
       "   PaymentMethod_Electronic check  PaymentMethod_Mailed check  \n",
       "0                               1                           0  \n",
       "1                               0                           1  \n",
       "2                               0                           1  \n",
       "3                               0                           0  \n",
       "4                               1                           0  \n",
       "\n",
       "[5 rows x 30 columns]"
      ]
     },
     "execution_count": 28,
     "metadata": {},
     "output_type": "execute_result"
    }
   ],
   "source": [
    "customer_df.head()"
   ]
  },
  {
   "cell_type": "markdown",
   "id": "3be32e75-7ebd-4897-84e1-2d65e9be2f39",
   "metadata": {
    "tags": []
   },
   "source": [
    "### Spliting dataset into train and test data\n",
    "\n",
    "Spliting dataset in the ratio of 70:30 \n",
    "\n",
    "Where 70% of the entire data is used for training and rest 30% data is used for testing the trained model.\n",
    "which we can analyse the performance of models by comparing the diffrent scoring metrics with the predicted target value and the actual test value. "
   ]
  },
  {
   "cell_type": "code",
   "execution_count": 29,
   "id": "6ce2d6b7-f39b-4eb6-9fc6-7ec32722fb1a",
   "metadata": {
    "colab": {
     "base_uri": "https://localhost:8080/",
     "height": 493
    },
    "id": "t0DkCAoChudI",
    "outputId": "4f5824b6-d5e0-419c-c916-6be218916af2"
   },
   "outputs": [
    {
     "data": {
      "text/plain": [
       "(4930, 30)"
      ]
     },
     "execution_count": 29,
     "metadata": {},
     "output_type": "execute_result"
    }
   ],
   "source": [
    "# split the data into validation and training set\n",
    "train_df, validation_df = train_test_split(customer_df, test_size=0.3, random_state=1)\n",
    "train_df.shape"
   ]
  },
  {
   "cell_type": "code",
   "execution_count": 30,
   "id": "4454ff8c-5cb3-431d-9275-6735a2479b25",
   "metadata": {},
   "outputs": [],
   "source": [
    "# construct datasets for analysis\n",
    "target = 'Churn'\n",
    "predictors = list(customer_df.columns)\n",
    "predictors.remove(target)"
   ]
  },
  {
   "cell_type": "code",
   "execution_count": 31,
   "id": "b58bdee6-e771-4829-a689-41a359d020ae",
   "metadata": {
    "tags": []
   },
   "outputs": [
    {
     "data": {
      "text/plain": [
       "0    3589\n",
       "1    1341\n",
       "Name: Churn, dtype: int64"
      ]
     },
     "execution_count": 31,
     "metadata": {},
     "output_type": "execute_result"
    }
   ],
   "source": [
    "train_df['Churn'].value_counts()"
   ]
  },
  {
   "cell_type": "markdown",
   "id": "2467347a-6e83-43c6-89a9-2974f5ebe7f6",
   "metadata": {},
   "source": [
    "### Data Balancing- Random Over sampling"
   ]
  },
  {
   "cell_type": "markdown",
   "id": "7e824393-267a-4832-80ce-5f363956af46",
   "metadata": {},
   "source": [
    "As we can see the data is imbalanced, this may cause the result metrics to be biased with the majority sample side.\n",
    "\n",
    "We see that the data set is of less number around 4930 rows for training data. Choosing Undersampling will further reduce the amount of training data, so we are planing to go with oversampling."
   ]
  },
  {
   "cell_type": "code",
   "execution_count": 32,
   "id": "c034b718-2368-4dc0-9c79-4302c9ab7df3",
   "metadata": {},
   "outputs": [],
   "source": [
    "# \"oversampling\"\n",
    "\n",
    "train_df_will_leave = train_df[train_df['Churn'] == 1]\n",
    "train_df_will_not_leave = train_df[train_df['Churn'] == 0]\n",
    "\n",
    "diffrence_in_samples = len(train_df_will_not_leave) - len(train_df_will_leave)\n",
    "\n",
    "random_sample_train_df_will_leave = train_df_will_leave.sample(diffrence_in_samples, replace=True)\n",
    "train_df_will_leave = pd.concat([train_df_will_leave,random_sample_train_df_will_leave])\n",
    "\n",
    "train_df = pd.concat([train_df_will_not_leave,train_df_will_leave])"
   ]
  },
  {
   "cell_type": "markdown",
   "id": "4bbe8da4-cdc9-496e-af11-a15ad7920658",
   "metadata": {},
   "source": [
    "Re-checking for the balanced data"
   ]
  },
  {
   "cell_type": "code",
   "execution_count": 33,
   "id": "fb0e0970-1e5d-4908-b105-6b1bce584883",
   "metadata": {},
   "outputs": [
    {
     "data": {
      "text/plain": [
       "0    3589\n",
       "1    3589\n",
       "Name: Churn, dtype: int64"
      ]
     },
     "execution_count": 33,
     "metadata": {},
     "output_type": "execute_result"
    }
   ],
   "source": [
    "train_df['Churn'].value_counts()"
   ]
  },
  {
   "cell_type": "markdown",
   "id": "858ecb3b-9132-456a-bf31-2ab38e6983f7",
   "metadata": {},
   "source": [
    "### Normalise and transform predictors"
   ]
  },
  {
   "cell_type": "markdown",
   "id": "1b55e661-56df-4f7e-8649-05f818d876d8",
   "metadata": {},
   "source": [
    "This dataset has values in diffrent ranges. Some models may be sensitive to diffrent in scales, So Scaling the training and validation data seperatly, Because if we do normalization before spliting, there is a possiblities of data lekage. Reference  [Link1](https://community.rapidminer.com/discussion/32592/normalising-data-before-data-split-or-after),\n",
    " [Link 2](https://datascience.stackexchange.com/questions/54908/data-normalization-before-or-after-train-test-split)"
   ]
  },
  {
   "cell_type": "code",
   "execution_count": 34,
   "id": "8105fd70-f2b8-46ee-81a0-2635b7586a4e",
   "metadata": {},
   "outputs": [],
   "source": [
    "# create a standard scaler and fit it to the training set of predictors\n",
    "scaler = preprocessing.StandardScaler()\n",
    "scaler.fit(train_df[predictors])\n",
    "\n",
    "# Transform the predictors of training and validation sets\n",
    "train_predictors = scaler.transform(train_df[predictors]) # train_predictors is not a numpy array\n",
    "train_target = train_df[target] # train_target is now a series object\n",
    "\n",
    "validation_predictors = scaler.transform(validation_df[predictors]) # validation_target is now a series object\n",
    "validation_target = validation_df[target] # validation_target is now a series object"
   ]
  },
  {
   "cell_type": "markdown",
   "id": "b8fa801f-dd9f-47cb-bf83-8790b4659c2d",
   "metadata": {
    "tags": []
   },
   "source": [
    "### Model-1: K-NN model with hyperparameter tuning and K-fold cross validation"
   ]
  },
  {
   "cell_type": "code",
   "execution_count": 35,
   "id": "cbdca896-5acf-4d8f-a9f4-efd09a70f302",
   "metadata": {
    "tags": []
   },
   "outputs": [
    {
     "name": "stdout",
     "output_type": "stream",
     "text": [
      "recall score:  0.9582141578873656\n",
      "Accuracy Score:   0.719\n",
      "parameters:  {'metric': 'euclidean', 'n_neighbors': 1}\n",
      "CPU times: total: 5.17 s\n",
      "Wall time: 38.4 s\n"
     ]
    }
   ],
   "source": [
    "%%time\n",
    "score_measure = 'recall'\n",
    "k_fold = 10\n",
    "# Start with an initial guess for parameters\n",
    "param_grid = {\n",
    "    'n_neighbors': list(range(1,(71*2),2)),\n",
    "    'metric': ['euclidean', 'cosine']\n",
    "}\n",
    "gridSearchBestKnn = GridSearchCV(KNeighborsClassifier(), param_grid, cv=k_fold, scoring=score_measure,\n",
    "                          n_jobs=-1)  # n_jobs=-1 will utilize all available CPUs \n",
    "gridSearchBestKnn.fit(train_predictors, train_target)\n",
    "y_pred = gridSearchBestKnn.predict(validation_predictors)\n",
    "print(score_measure, 'score: ', gridSearchBestKnn.best_score_)\n",
    "print(f\"{'Accuracy Score: ':18}{accuracy_score(validation_target, y_pred):.3f}\")\n",
    "print('parameters: ', gridSearchBestKnn.best_params_)\n",
    "\n",
    "bestRecallKnn = gridSearchBestKnn.best_estimator_\n"
   ]
  },
  {
   "cell_type": "code",
   "execution_count": 36,
   "id": "47940fdb-0e67-4071-a5d1-8185798f8530",
   "metadata": {},
   "outputs": [
    {
     "data": {
      "text/plain": [
       "array([[1249,  336],\n",
       "       [ 258,  270]], dtype=int64)"
      ]
     },
     "execution_count": 36,
     "metadata": {},
     "output_type": "execute_result"
    }
   ],
   "source": [
    "confusion_matrix(validation_target, y_pred)"
   ]
  },
  {
   "cell_type": "markdown",
   "id": "082fde91-2887-43f8-ac13-990db9e91b35",
   "metadata": {},
   "source": [
    "### Model 2: Decision Tree with hyperparameter tuning and K-fold cross validation"
   ]
  },
  {
   "cell_type": "code",
   "execution_count": 37,
   "id": "308761b4-1424-4d7f-8e37-f4cac984a8e2",
   "metadata": {
    "tags": []
   },
   "outputs": [
    {
     "name": "stdout",
     "output_type": "stream",
     "text": [
      "recall score:  0.9640652962138777\n",
      "Accuracy Score:   0.732\n",
      "parameters:  {'max_depth': 30, 'min_impurity_decrease': 0, 'min_samples_split': 2}\n",
      "CPU times: total: 906 ms\n",
      "Wall time: 2.87 s\n"
     ]
    }
   ],
   "source": [
    "%%time\n",
    "score_measure = 'recall'\n",
    "k_fold = 10\n",
    "# Start with an initial guess for parameters\n",
    "param_grid = {\n",
    "    'max_depth': [10, 20, 30, 40], \n",
    "    'min_samples_split': [2, 5, 10, 20, 40], \n",
    "    'min_impurity_decrease': [0, 0.0005, 0.001, 0.005, 0.01], \n",
    "}\n",
    "gridSearchBestDT = GridSearchCV(DecisionTreeClassifier(random_state=1), param_grid, cv=k_fold, scoring=score_measure,\n",
    "                          n_jobs=-1)  # n_jobs=-1 will utilize all available CPUs \n",
    "gridSearchBestDT.fit(train_predictors, train_target)\n",
    "y_pred = gridSearchBestDT.predict(validation_predictors)\n",
    "print(score_measure, 'score: ', gridSearchBestDT.best_score_)\n",
    "print(f\"{'Accuracy Score: ':18}{accuracy_score(validation_target, y_pred):.3f}\")\n",
    "print('parameters: ', gridSearchBestDT.best_params_)"
   ]
  },
  {
   "cell_type": "code",
   "execution_count": 38,
   "id": "be99ae7a-26b7-47f5-b1d6-844509aac1aa",
   "metadata": {},
   "outputs": [
    {
     "data": {
      "text/plain": [
       "array([[1288,  297],\n",
       "       [ 269,  259]], dtype=int64)"
      ]
     },
     "execution_count": 38,
     "metadata": {},
     "output_type": "execute_result"
    }
   ],
   "source": [
    "DT_confusion_matrix = confusion_matrix(validation_target, y_pred)\n",
    "DT_confusion_matrix"
   ]
  },
  {
   "cell_type": "markdown",
   "id": "5a41964f-3486-4904-b7ab-da6513afaf73",
   "metadata": {},
   "source": [
    "### Model 3: Random Forest with hyperparameter tuning and K-fold cross validation"
   ]
  },
  {
   "cell_type": "code",
   "execution_count": 39,
   "id": "8a6d2cb0-7218-4b3b-a2e5-bfdbaad1fc64",
   "metadata": {
    "tags": []
   },
   "outputs": [
    {
     "name": "stdout",
     "output_type": "stream",
     "text": [
      "recall score:  0.8255699413330013\n",
      "Accuracy Score:   0.752\n",
      "parameters:  {'max_depth': 5, 'min_impurity_decrease': 0.0003, 'min_samples_split': 50}\n",
      "CPU times: total: 5.88 s\n",
      "Wall time: 54.7 s\n"
     ]
    }
   ],
   "source": [
    "%%time\n",
    "score_measure = 'recall'\n",
    "k_fold = 10\n",
    "param_grid = {\n",
    "    'max_depth': [2,5,3,4,7,8], \n",
    "    'min_samples_split': [20,30, 40,50, 60], \n",
    "    'min_impurity_decrease': [ 0.001, 0.0005, 0.0007,0.0003], \n",
    "}\n",
    "gridSearchRF = GridSearchCV(RandomForestClassifier(random_state=random_seed), param_grid, cv=k_fold, scoring=score_measure,\n",
    "                          n_jobs=-1)\n",
    "\n",
    "gridSearchRF.fit(train_predictors, train_target)\n",
    "y_pred = gridSearchRF.predict(validation_predictors)\n",
    "print(score_measure, 'score: ', gridSearchRF.best_score_)\n",
    "print(f\"{'Accuracy Score: ':18}{accuracy_score(validation_target, y_pred):.3f}\")\n",
    "print('parameters: ', gridSearchRF.best_params_)"
   ]
  },
  {
   "cell_type": "markdown",
   "id": "dd5e9773-1f02-49a1-a62c-748951bf5ec7",
   "metadata": {},
   "source": [
    "### Model 4: AdaBoost with hyperparameter tuning and K-fold cross validation"
   ]
  },
  {
   "cell_type": "code",
   "execution_count": 40,
   "id": "615672ce-4c7b-44ea-b9cf-00c5e1e424bc",
   "metadata": {
    "tags": []
   },
   "outputs": [
    {
     "name": "stdout",
     "output_type": "stream",
     "text": [
      "recall score:  0.8258516051726552\n",
      "Accuracy Score:   0.749\n",
      "parameters:  {'n_estimators': 100}\n",
      "CPU times: total: 516 ms\n",
      "Wall time: 2.32 s\n"
     ]
    }
   ],
   "source": [
    "%%time\n",
    "score_measure = 'recall'\n",
    "k_fold = 10\n",
    "param_grid = { \n",
    "              'n_estimators':[5,20,50,100],\n",
    "              }\n",
    "\n",
    "gridSearchADA = GridSearchCV(AdaBoostClassifier(random_state=random_seed), param_grid, cv=k_fold, scoring=score_measure,\n",
    "                          n_jobs=-1)\n",
    "gridSearchADA.fit(train_predictors, train_target)\n",
    "y_pred = gridSearchADA.predict(validation_predictors)\n",
    "print(score_measure, 'score: ', gridSearchADA.best_score_)\n",
    "print(f\"{'Accuracy Score: ':18}{accuracy_score(validation_target, y_pred):.3f}\")\n",
    "print('parameters: ', gridSearchADA.best_params_)"
   ]
  },
  {
   "cell_type": "markdown",
   "id": "61508b4c-b320-447c-8ac9-ec9982e02fae",
   "metadata": {},
   "source": [
    "### Model 5: GradientBoosting Classifier with hyperparameter tuning and kfold cross validation"
   ]
  },
  {
   "cell_type": "code",
   "execution_count": 41,
   "id": "37829909-9442-4c7a-b347-25211afb6016",
   "metadata": {
    "tags": []
   },
   "outputs": [
    {
     "name": "stdout",
     "output_type": "stream",
     "text": [
      "recall score:  0.8319781827235804\n",
      "Accuracy Score:   0.733\n",
      "parameters:  {'learning_rate': 0.4, 'n_estimators': 3}\n",
      "CPU times: total: 438 ms\n",
      "Wall time: 931 ms\n"
     ]
    }
   ],
   "source": [
    "%%time\n",
    "score_measure = 'recall'\n",
    "k_fold = 10\n",
    "param_grid = {\n",
    "    'n_estimators': (2,3,5),\n",
    "    'learning_rate': (0.1,0.2,0.3,0.4,0.5)\n",
    "}\n",
    "gridSearchGB = GridSearchCV(GradientBoostingClassifier(random_state=random_seed), param_grid, cv=k_fold, scoring=score_measure,\n",
    "                          n_jobs=-1)\n",
    "gridSearchGB.fit(train_predictors, train_target)\n",
    "y_pred = gridSearchGB.predict(validation_predictors)\n",
    "print(score_measure, 'score: ', gridSearchGB.best_score_)\n",
    "print(f\"{'Accuracy Score: ':18}{accuracy_score(validation_target, y_pred):.3f}\")\n",
    "print('parameters: ', gridSearchGB.best_params_)"
   ]
  },
  {
   "cell_type": "markdown",
   "id": "580bfe5c-4dde-4421-8704-0dd00d3e6fe4",
   "metadata": {
    "tags": []
   },
   "source": [
    "### Model 6: XGBoost with hyperparameter tuning and kfold cross validation"
   ]
  },
  {
   "cell_type": "code",
   "execution_count": 42,
   "id": "2d229abd-378d-41fc-b3a1-48b7cf50c241",
   "metadata": {
    "tags": []
   },
   "outputs": [
    {
     "name": "stdout",
     "output_type": "stream",
     "text": [
      "recall score:  0.8392251910178802\n",
      "Accuracy Score:   0.756\n",
      "parameters:  {'learning_rate': 0.15, 'max_depth': 3, 'max_leaves': 1}\n",
      "CPU times: total: 2.95 s\n",
      "Wall time: 13.8 s\n"
     ]
    }
   ],
   "source": [
    "%%time\n",
    "score_measure = 'recall'\n",
    "k_fold = 10\n",
    "param_grid = {\n",
    "    'max_depth': (1,2,3),\n",
    "    'max_leaves': (1,2,3),\n",
    "    'learning_rate': (0.1,0.15),\n",
    "}\n",
    "gridSearchXGB = GridSearchCV(XGBClassifier(random_state=random_seed, use_label_encoder = False, eval_metric='mlogloss'), param_grid, cv=k_fold, scoring=score_measure,\n",
    "                          n_jobs=-1)\n",
    "gridSearchXGB.fit(train_predictors, train_target)\n",
    "y_pred = gridSearchXGB.predict(validation_predictors)\n",
    "print(score_measure, 'score: ', gridSearchXGB.best_score_)\n",
    "print(f\"{'Accuracy Score: ':18}{accuracy_score(validation_target, y_pred):.3f}\")\n",
    "print('parameters: ', gridSearchXGB.best_params_)"
   ]
  },
  {
   "cell_type": "markdown",
   "id": "27390a1b-2fb0-4fc3-82a8-238b3ba5add1",
   "metadata": {
    "tags": []
   },
   "source": [
    "### Model 7: Logistic regression with hyperpareter tuning and k-fold cross validating"
   ]
  },
  {
   "cell_type": "code",
   "execution_count": 43,
   "id": "08a34be5-5d4c-46b3-89a2-3eb24f24203d",
   "metadata": {
    "tags": []
   },
   "outputs": [
    {
     "name": "stdout",
     "output_type": "stream",
     "text": [
      "recall score:  0.7905820826597499\n",
      "Accuracy Score:   0.755\n",
      "parameters:  {'C': 10, 'max_iter': 50000, 'penalty': 'l2', 'solver': 'newton-cg'}\n",
      "0    1585\n",
      "1     528\n",
      "Name: Churn, dtype: int64\n"
     ]
    },
    {
     "data": {
      "text/html": [
       "<div>\n",
       "<style scoped>\n",
       "    .dataframe tbody tr th:only-of-type {\n",
       "        vertical-align: middle;\n",
       "    }\n",
       "\n",
       "    .dataframe tbody tr th {\n",
       "        vertical-align: top;\n",
       "    }\n",
       "\n",
       "    .dataframe thead th {\n",
       "        text-align: right;\n",
       "    }\n",
       "</style>\n",
       "<table border=\"1\" class=\"dataframe\">\n",
       "  <thead>\n",
       "    <tr style=\"text-align: right;\">\n",
       "      <th></th>\n",
       "      <th>Threshold</th>\n",
       "      <th>TP</th>\n",
       "      <th>FP</th>\n",
       "      <th>TN</th>\n",
       "      <th>FN</th>\n",
       "      <th>FPR</th>\n",
       "      <th>TPR</th>\n",
       "      <th>Precision</th>\n",
       "      <th>Recall</th>\n",
       "    </tr>\n",
       "  </thead>\n",
       "  <tbody>\n",
       "    <tr>\n",
       "      <th>0</th>\n",
       "      <td>0.1</td>\n",
       "      <td>519</td>\n",
       "      <td>1104</td>\n",
       "      <td>481</td>\n",
       "      <td>9</td>\n",
       "      <td>0.696530</td>\n",
       "      <td>0.982955</td>\n",
       "      <td>0.319778</td>\n",
       "      <td>0.982955</td>\n",
       "    </tr>\n",
       "    <tr>\n",
       "      <th>1</th>\n",
       "      <td>0.2</td>\n",
       "      <td>508</td>\n",
       "      <td>839</td>\n",
       "      <td>746</td>\n",
       "      <td>20</td>\n",
       "      <td>0.529338</td>\n",
       "      <td>0.962121</td>\n",
       "      <td>0.377134</td>\n",
       "      <td>0.962121</td>\n",
       "    </tr>\n",
       "    <tr>\n",
       "      <th>2</th>\n",
       "      <td>0.3</td>\n",
       "      <td>500</td>\n",
       "      <td>690</td>\n",
       "      <td>895</td>\n",
       "      <td>28</td>\n",
       "      <td>0.435331</td>\n",
       "      <td>0.946970</td>\n",
       "      <td>0.420168</td>\n",
       "      <td>0.946970</td>\n",
       "    </tr>\n",
       "    <tr>\n",
       "      <th>3</th>\n",
       "      <td>0.4</td>\n",
       "      <td>479</td>\n",
       "      <td>564</td>\n",
       "      <td>1021</td>\n",
       "      <td>49</td>\n",
       "      <td>0.355836</td>\n",
       "      <td>0.907197</td>\n",
       "      <td>0.459252</td>\n",
       "      <td>0.907197</td>\n",
       "    </tr>\n",
       "    <tr>\n",
       "      <th>4</th>\n",
       "      <td>0.5</td>\n",
       "      <td>438</td>\n",
       "      <td>427</td>\n",
       "      <td>1158</td>\n",
       "      <td>90</td>\n",
       "      <td>0.269401</td>\n",
       "      <td>0.829545</td>\n",
       "      <td>0.506358</td>\n",
       "      <td>0.829545</td>\n",
       "    </tr>\n",
       "    <tr>\n",
       "      <th>5</th>\n",
       "      <td>0.6</td>\n",
       "      <td>391</td>\n",
       "      <td>334</td>\n",
       "      <td>1251</td>\n",
       "      <td>137</td>\n",
       "      <td>0.210726</td>\n",
       "      <td>0.740530</td>\n",
       "      <td>0.539310</td>\n",
       "      <td>0.740530</td>\n",
       "    </tr>\n",
       "    <tr>\n",
       "      <th>6</th>\n",
       "      <td>0.7</td>\n",
       "      <td>324</td>\n",
       "      <td>211</td>\n",
       "      <td>1374</td>\n",
       "      <td>204</td>\n",
       "      <td>0.133123</td>\n",
       "      <td>0.613636</td>\n",
       "      <td>0.605607</td>\n",
       "      <td>0.613636</td>\n",
       "    </tr>\n",
       "    <tr>\n",
       "      <th>7</th>\n",
       "      <td>0.8</td>\n",
       "      <td>203</td>\n",
       "      <td>87</td>\n",
       "      <td>1498</td>\n",
       "      <td>325</td>\n",
       "      <td>0.054890</td>\n",
       "      <td>0.384470</td>\n",
       "      <td>0.700000</td>\n",
       "      <td>0.384470</td>\n",
       "    </tr>\n",
       "  </tbody>\n",
       "</table>\n",
       "</div>"
      ],
      "text/plain": [
       "  Threshold   TP    FP    TN   FN       FPR       TPR  Precision    Recall\n",
       "0       0.1  519  1104   481    9  0.696530  0.982955   0.319778  0.982955\n",
       "1       0.2  508   839   746   20  0.529338  0.962121   0.377134  0.962121\n",
       "2       0.3  500   690   895   28  0.435331  0.946970   0.420168  0.946970\n",
       "3       0.4  479   564  1021   49  0.355836  0.907197   0.459252  0.907197\n",
       "4       0.5  438   427  1158   90  0.269401  0.829545   0.506358  0.829545\n",
       "5       0.6  391   334  1251  137  0.210726  0.740530   0.539310  0.740530\n",
       "6       0.7  324   211  1374  204  0.133123  0.613636   0.605607  0.613636\n",
       "7       0.8  203    87  1498  325  0.054890  0.384470   0.700000  0.384470"
      ]
     },
     "execution_count": 43,
     "metadata": {},
     "output_type": "execute_result"
    }
   ],
   "source": [
    "\n",
    "solvers = ['newton-cg', 'lbfgs', 'liblinear']\n",
    "penalty = ['l2']\n",
    "c_values = [10, 1.0, 0.1]\n",
    "ftwo_scorer = make_scorer(fbeta_score, beta =2)\n",
    "# define grid search\n",
    "grid = dict(solver=solvers,penalty=penalty,C=c_values, max_iter=[50000])\n",
    "#cv = RepeatedStratifiedKFold(n_splits=10, n_repeats=3, random_state=1)\n",
    "\n",
    "best_logClassifer = GridSearchCV(estimator=LogisticRegression(random_state=1), param_grid=grid, n_jobs=-1, scoring=ftwo_scorer,error_score=0)\n",
    "\n",
    "#best_logClassifer = GridSearchCV(estimator=LogisticRegression(random_state=1),scoring='recall', param_grid=param_grid, cv=10, verbose=0,  n_jobs = -1)\n",
    "best_logClassifer.fit(train_predictors, train_target)\n",
    "\n",
    "y_pred = best_logClassifer.predict(validation_predictors)\n",
    "print(score_measure, 'score: ', best_logClassifer.best_score_)\n",
    "print(f\"{'Accuracy Score: ':18}{accuracy_score(validation_target, y_pred):.3f}\")\n",
    "print('parameters: ', best_logClassifer.best_params_)\n",
    "\n",
    "tps = []\n",
    "fps = []\n",
    "tns = []\n",
    "fns = []  \n",
    "precs = []\n",
    "recls = []\n",
    "\n",
    "tprs = []\n",
    "fprs = []\n",
    "thres = []\n",
    "for threshold in np.arange(0.1, 0.9, 0.1):\n",
    "    y_pred= best_logClassifer.predict_proba(validation_predictors)[:,1]>=threshold\n",
    "    m = confusion_matrix(validation_target, y_pred)\n",
    "    TP = m[1,1]\n",
    "    TN = m[0,0]\n",
    "    FP = m[0,1]\n",
    "    FN = m[1,0]\n",
    "    TPR = TP/(TP+FN)\n",
    "    FPR = FP/(FP+TN)\n",
    "    recall = TP / (TP+FN)\n",
    "    precision = TP / (TP+FP)\n",
    "    tps.append(TP)\n",
    "    fps.append(FP)\n",
    "    tns.append(TN)\n",
    "    fns.append(FN)\n",
    "    tprs.append(TPR)\n",
    "    fprs.append(FPR)\n",
    "    recls.append(recall)\n",
    "    precs.append(precision)\n",
    "    thres.append(str(round(threshold,2)))\n",
    "\n",
    "print(validation_target.value_counts())\n",
    "df = pd.DataFrame(list(zip(thres, tps, fps, tns, fns, fprs, tprs, precs, recls)), columns=['Threshold', 'TP', 'FP', 'TN', 'FN', 'FPR', 'TPR', 'Precision', 'Recall'])\n",
    "df"
   ]
  },
  {
   "cell_type": "markdown",
   "id": "b994ecbc-b4fe-4d18-b276-09bd2211f392",
   "metadata": {
    "tags": []
   },
   "source": [
    "### ROC AUC"
   ]
  },
  {
   "cell_type": "markdown",
   "id": "f241b581-0d37-4975-9741-b3fb5a0feb69",
   "metadata": {
    "tags": []
   },
   "source": [
    "We are trying to plot the ROC curve for diffrent threshold values for the logistic regression model that we fit above. From the ROC curv we are trying to compare the Change of True Positive Rate with respect to decrese in False Positive Rate.\n",
    "This will give us a good picture of how well the model predicts the chrun of a customer at diffrent threshold."
   ]
  },
  {
   "cell_type": "markdown",
   "id": "2c4088ab-a984-4684-a2d1-d7bca5af8b2e",
   "metadata": {},
   "source": [
    "We are using SKLearn direct function to construct the ROC curve"
   ]
  },
  {
   "cell_type": "code",
   "execution_count": 44,
   "id": "a1b8d984-fabb-47f9-bc7d-44c6551d5428",
   "metadata": {
    "tags": []
   },
   "outputs": [
    {
     "data": {
      "text/plain": [
       "<matplotlib.legend.Legend at 0x1fd83891a00>"
      ]
     },
     "execution_count": 44,
     "metadata": {},
     "output_type": "execute_result"
    },
    {
     "data": {
      "image/png": "[encoded data removed]",
      "text/plain": [
       "<Figure size 720x720 with 1 Axes>"
      ]
     },
     "metadata": {
      "needs_background": "light"
     },
     "output_type": "display_data"
    }
   ],
   "source": [
    "# compute tpr and fpr for for different thresholds\n",
    "fpr, tpr, thresholds = roc_curve(validation_target, best_logClassifer.predict_proba(validation_predictors)[:,1])\n",
    "\n",
    "# compute roc auc\n",
    "roc_auc = auc(fpr, tpr)\n",
    "\n",
    "plt.figure(figsize=(10,10))\n",
    "plt.plot(fpr, tpr, color='darkorange', lw=2, label=f'ROC curve (area = {roc_auc:0.2f})')\n",
    "plt.plot([0, 1], [0, 1], color='navy', lw=2, linestyle='--')\n",
    "plt.xlim([0.0, 1.0])\n",
    "plt.ylim([0.0, 1.05])\n",
    "plt.xlabel('False Positive Rate')\n",
    "plt.ylabel('True Positive Rate')\n",
    "plt.title('Receiver operating characteristic example')\n",
    "plt.legend(loc=\"lower right\")"
   ]
  },
  {
   "cell_type": "code",
   "execution_count": 45,
   "id": "e7d313ba-f2e7-4e80-b5d3-02ab1943dfa6",
   "metadata": {
    "tags": []
   },
   "outputs": [
    {
     "data": {
      "image/png": "[encoded data removed]",
      "text/plain": [
       "<Figure size 432x288 with 1 Axes>"
      ]
     },
     "metadata": {
      "needs_background": "light"
     },
     "output_type": "display_data"
    }
   ],
   "source": [
    "RocCurveDisplay.from_estimator(best_logClassifer, validation_predictors, validation_target)\n",
    "plt.show()"
   ]
  },
  {
   "cell_type": "markdown",
   "id": "c5b15a0f-310e-426b-9d72-57b907569a30",
   "metadata": {},
   "source": [
    "From the graph, we can infer that Area Under the Curve(AUC) is having a large value, this shows the Logistic Regression model performs well in predicting churn, but this is not the best model among all the above we tried,  Where Decission Tree has high recall score with precission."
   ]
  },
  {
   "cell_type": "markdown",
   "id": "18033265-abb5-4f54-8d8f-1d0bbdc1be04",
   "metadata": {
    "tags": []
   },
   "source": [
    "### PR AUC"
   ]
  },
  {
   "cell_type": "markdown",
   "id": "785d7391-cb4a-4dd3-a100-8028f79ed80d",
   "metadata": {},
   "source": [
    "From this PR AUC chart we are trying to compare the precision and recall value to find the best threshold value for the logistic regression model that we fit in above"
   ]
  },
  {
   "cell_type": "code",
   "execution_count": 46,
   "id": "04c75087-101a-4f77-aed5-197d6ea74425",
   "metadata": {
    "tags": []
   },
   "outputs": [
    {
     "data": {
      "image/png": "[encoded data removed]",
      "text/plain": [
       "<Figure size 720x720 with 1 Axes>"
      ]
     },
     "metadata": {
      "needs_background": "light"
     },
     "output_type": "display_data"
    }
   ],
   "source": [
    "# compute pr auc\n",
    "pr_auc = auc(recls, precs)\n",
    "\n",
    "plt.figure(figsize=(10,10))\n",
    "plt.plot(recls, precs, color='darkorange', lw=2, label=f'PR curve {roc_auc:.2f}')\n",
    "\n",
    "plt.xlabel('Recall')\n",
    "plt.ylabel('Precision')\n",
    "plt.title('Precision Recall Curve')\n",
    "plt.legend(loc=\"lower right\")\n",
    "\n",
    "for i in range(len(tprs)):\n",
    "    plt.annotate(thres[i], (recls[i], precs[i] + 0.02))\n",
    "    "
   ]
  },
  {
   "cell_type": "markdown",
   "id": "5280428f-0693-408f-9a37-c06ee508e158",
   "metadata": {},
   "source": [
    "From the above PR curve, we can see the maximum recall value with a good precission is at a thershold value of 0.8 "
   ]
  },
  {
   "cell_type": "code",
   "execution_count": 47,
   "id": "007b067c-fed2-4cbe-838b-5390da05a775",
   "metadata": {
    "tags": []
   },
   "outputs": [
    {
     "data": {
      "image/png": "[encoded data removed]",
      "text/plain": [
       "<Figure size 432x288 with 1 Axes>"
      ]
     },
     "metadata": {
      "needs_background": "light"
     },
     "output_type": "display_data"
    }
   ],
   "source": [
    "PrecisionRecallDisplay.from_estimator(best_logClassifer, validation_predictors, validation_target) \n",
    "plt.show()"
   ]
  },
  {
   "cell_type": "markdown",
   "id": "af783071-f961-4c27-8e1b-37bc517beb9b",
   "metadata": {},
   "source": [
    "### Model 8: Neural Network with hyperparameter tuning"
   ]
  },
  {
   "cell_type": "code",
   "execution_count": 48,
   "id": "0108fbca-27a4-4462-a817-b2da4e8267c5",
   "metadata": {},
   "outputs": [
    {
     "name": "stdout",
     "output_type": "stream",
     "text": [
      "recall score:  0.8737870187993148\n",
      "Accuracy Score:   0.726\n",
      "parameters:  {'activation': 'tanh', 'solver': 'adam'}\n"
     ]
    }
   ],
   "source": [
    "score_measure = 'recall'\n",
    "param_grid = {\n",
    "    'activation': ['identity','logistic','tanh','relu'],\n",
    "    'solver': ['sgd','adam']\n",
    "}\n",
    "gridSearchAnn = GridSearchCV(MLPClassifier(hidden_layer_sizes=(16,8,4), max_iter=20000), param_grid, scoring=score_measure, n_jobs=-1)\n",
    "\n",
    "gridSearchAnn.fit(train_predictors, train_target)\n",
    "\n",
    "y_pred = gridSearchAnn.predict(validation_predictors)\n",
    "print(score_measure, 'score: ', gridSearchAnn.best_score_)\n",
    "print(f\"{'Accuracy Score: ':18}{accuracy_score(validation_target, y_pred):.3f}\")\n",
    "print('parameters: ', gridSearchAnn.best_params_)"
   ]
  },
  {
   "cell_type": "code",
   "execution_count": 49,
   "id": "2cd553e5-698c-4592-a1b8-41a5f1468688",
   "metadata": {},
   "outputs": [
    {
     "data": {
      "text/plain": [
       "array([[1165,  420],\n",
       "       [ 159,  369]], dtype=int64)"
      ]
     },
     "execution_count": 49,
     "metadata": {},
     "output_type": "execute_result"
    }
   ],
   "source": [
    "confusion_matrix(validation_target, y_pred)"
   ]
  },
  {
   "cell_type": "markdown",
   "id": "71064fdc-dd04-42a7-a441-6c75bcb38960",
   "metadata": {},
   "source": [
    "### Metrics comparision and best model for our project\n",
    "We trained 8 diffrent models and compared the results of Recall and Precision from which\n",
    "Decision Tree with hyper parameter tuning and K-fold cross validation gave the highest recall score of 96.40% with a accuracy of  accuracy 73.20%\n",
    "\n",
    "Whereas, highest accuracy is achieved in Artificial Neural Networks with a maximum of 78.40% but it has less recall score than Decisssion tree."
   ]
  },
  {
   "cell_type": "markdown",
   "id": "18e42a77-a010-419d-845f-f0999eac537e",
   "metadata": {},
   "source": [
    "| Model | Recall | Accuracy |\n",
    "| --- | --- | --- |\n",
    "| KNN         | 95.82% | 71.90% |\n",
    "| Decision Tree   | 96.40% | 73.20% |\n",
    "| Random Forest   | 82.55% | 75.20% |\n",
    "| AdaBoost   | 82.58% | 74.90% |\n",
    "| Gradient Boosting | 83.19% | 73.30% |\n",
    "| XGBoost | 83.19% | 75.60% |\n",
    "| Logistic Regression | 79.05% | 75.50% |\n",
    "| Neural Network | 87.37% | 72.60% |"
   ]
  },
  {
   "cell_type": "markdown",
   "id": "68a8f322-adc8-4ec6-9c16-cff1b797be7d",
   "metadata": {},
   "source": [
    "Recall score - The number of correct positive predictions made out of all positive predictions that could have been made. This is the important metric to find the customer churn or not. Because based on this number we are going to spend money on business campaign. \n",
    "Our best model for recall is Decission Tree."
   ]
  },
  {
   "cell_type": "code",
   "execution_count": 50,
   "id": "c39be7a1-aff3-4495-8b01-7a49c46a6453",
   "metadata": {},
   "outputs": [
    {
     "data": {
      "text/plain": [
       "array([[1288,  297],\n",
       "       [ 269,  259]], dtype=int64)"
      ]
     },
     "execution_count": 50,
     "metadata": {},
     "output_type": "execute_result"
    }
   ],
   "source": [
    "DT_confusion_matrix"
   ]
  },
  {
   "cell_type": "code",
   "execution_count": 51,
   "id": "05582291-c5a8-4764-92c5-20a3e7ee900b",
   "metadata": {},
   "outputs": [
    {
     "data": {
      "text/plain": [
       "2113"
      ]
     },
     "execution_count": 51,
     "metadata": {},
     "output_type": "execute_result"
    }
   ],
   "source": [
    "TP = DT_confusion_matrix[1, 1] # True Positives\n",
    "TN = DT_confusion_matrix[0, 0] # True Negatives\n",
    "FP = DT_confusion_matrix[0, 1] # False Positives\n",
    "FN = DT_confusion_matrix[1, 0] # False Negatives\n",
    "\n",
    "Total_test_samples = TP+TN+FP+FN\n",
    "Total_test_samples"
   ]
  },
  {
   "cell_type": "markdown",
   "id": "cc40a4e4-c600-4938-a887-e8e46733af78",
   "metadata": {},
   "source": [
    "From the Above confusion matrix we can see that True Negative is having high value ,i.e Number of customers whom the model correctly predicted will not churn. \n",
    "\n",
    "This is because the base dataset is having more entries for customers will not churn. We did data balancing only for train set not for the test set. Eventhough, our model correctly predicted the majority value of TP correctly. This is a good sign that our model performs well with the test set.\n"
   ]
  },
  {
   "cell_type": "markdown",
   "id": "281b46bf-1d7c-4112-9e1f-7359e629985d",
   "metadata": {},
   "source": [
    "True Negative = 1288. Out of 2113 test data our model predicted correctly that 1288 customers will not chrun. \n",
    "This information is useful to find the satisfied customers.\n",
    "Also, this data can be used to exclude these 1288 customers when there is a campaign to target only unsatisfied customers.\n"
   ]
  },
  {
   "cell_type": "markdown",
   "id": "f897142c-849d-4e0b-9a77-d5300fc9cf22",
   "metadata": {},
   "source": [
    "True Positive  = 259 (i.e Number of customers that the model correctly predicted will churn) We need to focus on these customers to check for any service improvements to make them retain in the network. These are the customers we need to target to retain."
   ]
  },
  {
   "cell_type": "markdown",
   "id": "55874853-f199-4b21-8247-4fb375e3bc3f",
   "metadata": {},
   "source": [
    "False Positive = 297. Number of customer our model predicted that they will churn but they did not. This is not a major issue because we will target these customers to retain but they are aldready satisfied customers. We may spend money to retain them but that will not be a big loss as it can be considered as in insentive to the existing customer. Also this percent much is less compared to the True Negative. So we will add only more extra customers to target this will not make more loss to our campaign."
   ]
  },
  {
   "cell_type": "markdown",
   "id": "238acacd-7b96-4cf1-bd4a-bd8df2a49875",
   "metadata": {},
   "source": [
    "False Negative = 269. The number of customers that the model predicted will not churn but they did. This are customers we are going to miss. We need to improve models to reduce this value. \n",
    "These customers will churn also we dont know that they are going to churn from the service. This will be the major loss for the business. But are trying to reduce this number as low as we can. This value is also a small ratio compared to the overall data count.  "
   ]
  },
  {
   "cell_type": "markdown",
   "id": "5226e7c8-33f1-49dc-a74b-9b3888bb3768",
   "metadata": {},
   "source": [
    "### Conclusion and Business recommendation:"
   ]
  },
  {
   "cell_type": "markdown",
   "id": "a3322765-3f9a-4c5c-a260-ca9cb3372dbb",
   "metadata": {},
   "source": [
    "In real world senario, there will be only two cases:\n",
    "\n",
    "1 - Customer will churn\n",
    "\n",
    "2 - Customer will not chur.\n",
    "\n",
    "From this model we can find the customers who will not churn and exclude them from target campaignins, by doing so we can reduce the money spend on campaigain.\n",
    "Also, target the model predicted churn customers and check feedback to improve the service to make them retain in the service."
   ]
  }
 ],
 "metadata": {
  "kernelspec": {
   "display_name": "Python 3 (ipykernel)",
   "language": "python",
   "name": "python3"
  },
  "language_info": {
   "codemirror_mode": {
    "name": "ipython",
    "version": 3
   },
   "file_extension": ".py",
   "mimetype": "text/x-python",
   "name": "python",
   "nbconvert_exporter": "python",
   "pygments_lexer": "ipython3",
   "version": "3.9.12"
  }
 },
 "nbformat": 4,
 "nbformat_minor": 5
}
